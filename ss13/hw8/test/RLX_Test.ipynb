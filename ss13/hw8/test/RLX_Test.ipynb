{
 "metadata": {
  "name": "RLX_Test"
 },
 "nbformat": 3,
 "nbformat_minor": 0,
 "worksheets": [
  {
   "cells": [
    {
     "cell_type": "markdown",
     "metadata": {},
     "source": [
      "Test the homework8 root_locus_extras module"
     ]
    },
    {
     "cell_type": "code",
     "collapsed": false,
     "input": [
      "from control import matlab\n",
      "import sympy\n",
      "from homework8 import root_locus_extras as rlx\n",
      "\n",
      "\n",
      "def main():\n",
      "    print \"This is an example of homework8 root locus extras\"\n",
      "    s = sympy.Symbol(\"s\")\n",
      "    S = 1 / ((s+1)*(s+2)*(s+10))\n",
      "    \n",
      "    numerS = map(float, sympy.Poly(S.as_numer_denom()[0], s).all_coeffs()) \n",
      "    denomS = map(float, sympy.Poly(S.as_numer_denom()[1], s).all_coeffs())\n",
      "    tf = matlab.tf(numerS, denomS)\n",
      "    \n",
      "    gain = 164.5\n",
      "    damping_ratio = 0.174\n",
      "    \n",
      "    print \"provided test data :\"\n",
      "    print \"system =\", tf, \"\\ngain =\", gain,\"\\ndamping ratio =\",damping_ratio\n",
      "    \n",
      "    \n",
      "    print \"Gain \", rlx.gainFromDampingRatio(tf, damping_ratio)\n",
      "    print \"Poles: \", rlx.polesFromTransferFunction(tf)\n",
      "    print \"Overshoot: \", rlx.overshootFromDampingRatio(tf, damping_ratio)\n",
      "    print \"Damping Ratio: \", rlx.dampingRatioFromGain(tf, gain)\n",
      "    print \"Overshoot: \", rlx.overshootFromGain(tf, gain)\n",
      "    print \"Frequency: \", rlx.frequencyFromGain(tf, gain)\n",
      "    "
     ],
     "language": "python",
     "metadata": {},
     "outputs": []
    },
    {
     "cell_type": "markdown",
     "metadata": {},
     "source": [
      "main()"
     ]
    },
    {
     "cell_type": "markdown",
     "metadata": {},
     "source": [
      "To view documentation use:\n",
      "?rlx.functionName"
     ]
    },
    {
     "cell_type": "code",
     "collapsed": false,
     "input": [
      "?rlx.gainFromDampingRatio()"
     ],
     "language": "python",
     "metadata": {},
     "outputs": [],
     "prompt_number": 4
    },
    {
     "cell_type": "code",
     "collapsed": false,
     "input": [],
     "language": "python",
     "metadata": {},
     "outputs": []
    }
   ],
   "metadata": {}
  }
 ]
}