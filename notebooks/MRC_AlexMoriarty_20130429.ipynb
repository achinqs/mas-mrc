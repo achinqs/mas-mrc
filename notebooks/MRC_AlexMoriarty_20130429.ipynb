{
 "metadata": {
  "name": "MRC_AlexMoriarty_20130429"
 },
 "nbformat": 3,
 "nbformat_minor": 0,
 "worksheets": [
  {
   "cells": [
    {
     "cell_type": "markdown",
     "metadata": {},
     "source": [
      "<style type=\"text/css\">\n",
      ".time_spent {\n",
      "    width: 3em;\n",
      "    border-style: none;\n",
      "    background-color: silver;\n",
      "    font-weight: bold;\n",
      "    padding-left: 5px;\n",
      "}\n",
      "</style>"
     ]
    },
    {
     "cell_type": "heading",
     "level": 1,
     "metadata": {},
     "source": [
      "Mathematics for Robotics and Control - Assignment 4: Modelling in the Time Domain"
     ]
    },
    {
     "cell_type": "code",
     "collapsed": false,
     "input": [
      "import sys\n",
      "# Windows and Linux so far have no problem with the inline backend...\n",
      "if not \"win\" in sys.platform and not \"linux\" in sys.platform:\n",
      "    %pylab\n",
      "# ...on other platforms we did run into problems in the past, so let's use the default backend\n",
      "else:\n",
      "    %pylab inline"
     ],
     "language": "python",
     "metadata": {},
     "outputs": [
      {
       "output_type": "stream",
       "stream": "stdout",
       "text": [
        "\n",
        "Welcome to pylab, a matplotlib-based Python environment [backend: module://IPython.kernel.zmq.pylab.backend_inline].\n",
        "For more information, type 'help(pylab)'.\n"
       ]
      }
     ],
     "prompt_number": 3
    },
    {
     "cell_type": "markdown",
     "metadata": {},
     "source": [
      "---"
     ]
    },
    {
     "cell_type": "heading",
     "level": 4,
     "metadata": {},
     "source": [
      "Assignment 4.1"
     ]
    },
    {
     "cell_type": "markdown",
     "metadata": {},
     "source": [
      "*Answer the following questions:*\n",
      "\n",
      "1. What are some advantages of modelling a system in the time domain vs. the frequency domain?<br><br>\n",
      "Some functions are easier in their respective domains. Convolution in the time domain is multiplication in the frequency domain. Multiple functions can be combined (added or super imposed) in the time domain but they can be seperated into their frequency components and the information is seperable in the frequency domain. In the frequency domain the stability and transient response is quickly available. The time domain approach has the advantage that it can be applied to non Linear Time Invarient systems.<br><br>\n",
      "2. Name two additional forms on how to represent a system in state space form, apart from the Controllable Canonical Form. Give reasons as to why you would pick each form and *briefly* describe their structure, i.e. how to obtain them.<br><br>\n",
      "i. Observable Canonical Form: <br>The Observable Canonical Form guarentees an 'Observable' system. Every state will have some effect on the output and therefor ever state/transition is detectable, the system can not move from one state to another without in some way effecting the output.<br>\n",
      "ii. Cascade Form / Parallel Form:<br>The Cascade or Parallel forms refer to how the system is represented in a block diagram. They are non canonical forms, but can be preferred depending on how the system is being implemented, or how the system being modelled is. <br>\n",
      "<br><br>\n",
      "3. Assume you have a linear algebra package installed on your computer and a system model in state space, i.e. the matrices $A$, $B$, $C$, and $D$. How can you quickly obtain the poles of said system without converting it back to the frequency domain?<br><br>\n",
      "Very quick, MatLab provides this functionallity through at least 3 different toolboxes (Control Systems Toolbox, System Identification Toolbox and Signal Processing Toolbox). The python class statesp.StateSpace has a method pole() which will \"Compute the poles of a state space system.\"<br>\n",
      "<code>\n",
      "    In [6]: ?statesp.StateSpace.pole\n",
      "Type:       instancemethod\n",
      "String Form:<unbound method StateSpace.pole>\n",
      "File:       /opt/anaconda/lib/python2.7/site-packages/control/statesp.py\n",
      "Definition: statesp.StateSpace.pole(self)\n",
      "Docstring:  Compute the poles of a state space system.\n",
      "<code>\n",
      "<br>\n",
      "4. Given a system model in SSR, how can you determine if the system is controllable? Construct a simple example and give some code to demonstrate.\n",
      "5. Like question 4, but now talk about observability.\n"
     ]
    },
    {
     "cell_type": "markdown",
     "metadata": {},
     "source": [
      "*Assignment 4.1 took me* <input class=\"time_spent\" name=\"ex41_time_spent\" /> *minutes.*"
     ]
    },
    {
     "cell_type": "markdown",
     "metadata": {},
     "source": [
      "---"
     ]
    },
    {
     "cell_type": "heading",
     "level": 4,
     "metadata": {},
     "source": [
      "Assignment 4.2"
     ]
    },
    {
     "cell_type": "markdown",
     "metadata": {},
     "source": [
      "Take the system from the most recent lab class and...\n",
      "\n",
      "1. ...determine the transfer function that represents the whole system <br><br>\n",
      "First we look at the inner loop containing, $G_1=\\frac{5}{s(1+2)}$ and negative self feedback. This simplifies to a new block $N_1$.<br>\n",
      "$N_1= $\n",
      "\n",
      "2. ...convert it to a state space representation, use the desired angle as input and the actual angle and wheel position as state variables.\n",
      "3. ...simulate the system *manually* in Python, assuming $x_0 = 0$, using the following angle values as inputs:\n",
      "    \n",
      "<img src=\"files/Downloads/brsu_mrc_assignment_004_updated_pattern/system0000.png\" />\n",
      "\n",
      "4. ...during your simulation, pick $K$ so as to create an unstable, underdamped, overdamped and critically damped system. Include your results for each choice of $K$."
     ]
    },
    {
     "cell_type": "code",
     "collapsed": false,
     "input": [
      "import numpy as np\n",
      "u_t = np.concatenate([\n",
      "        [0.]*10,\n",
      "        [-np.pi*0.5]*1,\n",
      "        [0.]*10,\n",
      "        [np.pi*0.5]*1,\n",
      "        [0]*8,\n",
      "        [np.pi*0.5]*1,\n",
      "        [0.]*20,\n",
      "        [-np.pi*0.5]*1,\n",
      "        [0.]*15,\n",
      "        [-np.pi*0.5]*1,\n",
      "        [0.]*15,  \n",
      "    ])\n",
      "print u_t"
     ],
     "language": "python",
     "metadata": {},
     "outputs": [
      {
       "output_type": "stream",
       "stream": "stdout",
       "text": [
        "[ 0.          0.          0.          0.          0.          0.          0.\n",
        "  0.          0.          0.         -1.57079633  0.          0.          0.\n",
        "  0.          0.          0.          0.          0.          0.          0.\n",
        "  1.57079633  0.          0.          0.          0.          0.          0.\n",
        "  0.          0.          1.57079633  0.          0.          0.          0.\n",
        "  0.          0.          0.          0.          0.          0.          0.\n",
        "  0.          0.          0.          0.          0.          0.          0.\n",
        "  0.          0.         -1.57079633  0.          0.          0.          0.\n",
        "  0.          0.          0.          0.          0.          0.          0.\n",
        "  0.          0.          0.          0.         -1.57079633  0.          0.\n",
        "  0.          0.          0.          0.          0.          0.          0.\n",
        "  0.          0.          0.          0.          0.          0.        ]\n"
       ]
      }
     ],
     "prompt_number": 5
    },
    {
     "cell_type": "markdown",
     "metadata": {},
     "source": [
      "**The submission for this assignment is the generated system output. Be sure to include it in your submission!**"
     ]
    },
    {
     "cell_type": "markdown",
     "metadata": {},
     "source": [
      "*Assignment 4.2 took me* <input class=\"time_spent\" name=\"ex42_time_spent\" /> *minutes.*"
     ]
    },
    {
     "cell_type": "markdown",
     "metadata": {},
     "source": [
      "---"
     ]
    },
    {
     "cell_type": "markdown",
     "metadata": {},
     "source": [
      "**Assignment 4.3**"
     ]
    },
    {
     "cell_type": "markdown",
     "metadata": {},
     "source": [
      "Last week, we discussed how a Pole/Zero - plot allows you to quickly judge the stability of a system. What plot could you use to inspect the damping properties of second-order differential equations? Find and explain plots for the underdamped, overdamped and critically damped case.<br><br>\n",
      "\n",
      "You can use a plot of the system response vs time. Or just examine the roots in the Pole Zero plot directly. The Critically damped case will reach a steady state end value in a reasonable time without over shooting. the underdamped case oscillate about the steady state value and may converge or diverge. The overdamped case may not reach the steady state, or will do so very slowly. <br><br>\n",
      "<img src=\"files/foo/img1.png\"><br>\n",
      "<img src=\"files/foo/img2.png\"><br>\n",
      "<img src=\"files/foo/img3.png\"><br><br>\n",
      "source: http://lpsa.swarthmore.edu/Transient/TransInputs/TransStep.html <br>"
     ]
    },
    {
     "cell_type": "markdown",
     "metadata": {},
     "source": [
      "*Assignment 4.3 took me* <input class=\"time_spent\" name=\"ex43_time_spent\" /> *minutes.*"
     ]
    },
    {
     "cell_type": "markdown",
     "metadata": {},
     "source": [
      "---"
     ]
    },
    {
     "cell_type": "markdown",
     "metadata": {},
     "source": [
      "**Assignment 4.4**\n",
      "\n",
      "Convert the following diagrams to a single transfer function representing the complete system.\n",
      "\n",
      "**System A**\n",
      "<img src=\"files/Downloads/brsu_mrc_assignment_004_updated_pattern/system0001.png\" />\n",
      "\n",
      "**System B**\n",
      "<img src=\"files/Downloads/brsu_mrc_assignment_004_updated_pattern/system0002.png\" />\n"
     ]
    },
    {
     "cell_type": "markdown",
     "metadata": {},
     "source": [
      "** System A ** \n",
      "\n",
      "No example givin in lecture, lab or notes provided how to deal with overlapping loops.<br>\n",
      "My solution is on pen and paper but the result involved moving the $G_4$ around so the loops didn't over lap. Here is answer, see attached image for work.<br>\n",
      "$H(s) = \\frac{G_1 G_2 G_6 (G_5 + G_3 G_4)}\n",
      "{1 + H_1 G_4 G_6 + H_2 G_1 G_2 ( G_3 G_4 + G_5 ) G_6 }$\n",
      "\n",
      "\n",
      "** System B **\n",
      "\n",
      "Assume $D(s) = 0$.  And that $D(s)$  is a disturbance signal.<br>\n",
      "Create new block $N_1(s)$, the numerator of the feedback loop.<br>\n",
      "$N_1(s) = \\left(\\frac{K}{s+3} + D(s) \\right) \\frac{2}{s}$<br>\n",
      "Then combine the terms of the feedback loop<br>\n",
      "$H(s) = \\frac{N_1(s)}{1+\\left(s+1\\right)\\left(N_1(s)\\right)}$<br>\n",
      "Set $D(s)=0$,   and simplify. <br>\n",
      "$H(s) = \\frac{2Ks^2 + 6Ks}{s^4+6s^3+9s^2+4K^2}$"
     ]
    },
    {
     "cell_type": "markdown",
     "metadata": {},
     "source": [
      "*Assignment 4.4 took me* <input class=\"time_spent\" name=\"ex44_time_spent\" /> *minutes.*"
     ]
    },
    {
     "cell_type": "markdown",
     "metadata": {},
     "source": [
      "---"
     ]
    },
    {
     "cell_type": "markdown",
     "metadata": {},
     "source": [
      "<script type=\"text/javascript\">\n",
      "    function validTime(minutes) { \n",
      "        var numberIsSane = isFinite(parseInt(minutes, 10)) && (parseFloat(minutes, 10) == parseInt(minutes, 10)); \n",
      "        var numberInRange = ( (minutes >= 1) && (minutes < 60*24*7) );\n",
      "        return (numberIsSane && numberInRange);\n",
      "    }\n",
      "    function create_time_file() {\n",
      "        var kernel = IPython.notebook.kernel;\n",
      "        if (kernel) {\n",
      "            var studentName = $('#usrname').val();\n",
      "            var filename = 'MRC_' + encodeURIComponent(studentName.replace(' ', '_')) + '_20130429.txt'\n",
      "            var inputElements = $(':text.time_spent');\n",
      "            var timings = new Array();\n",
      "            if (inputElements) {\n",
      "                var allTimesAreValid = true;\n",
      "                var invalidTimeValue = null;\n",
      "                inputElements.each(function() {\n",
      "                    if (!validTime(this.value)) {\n",
      "                        allTimesAreValid = false;\n",
      "                        invalidTimeValue = this.value;\n",
      "                        return;\n",
      "                    }\n",
      "                    timings.push(this.value);\n",
      "                });\n",
      "                if (!allTimesAreValid) {\n",
      "                    alert('Unable to save assignment times, invalid time value <' + invalidTimeValue + '>');\n",
      "                    return;\n",
      "                }\n",
      "                if (!studentName) {\n",
      "                    alert('Please include your name in the submission');\n",
      "                    return;\n",
      "                }\n",
      "                if (confirm('Here are the timings I am going to save:\\n\\n' + timings.join(\" minutes\\n\") + ' minutes\\n\\nFilename: ' + filename + '\\n\\nDo you want me to continue?')) {\n",
      "                    var pyCode = [\n",
      "                        'with open(\"' + filename + '\", \"w\") as timings_file:',\n",
      "                        'print >>timings_file, \"NAME:\", \"' + studentName + '\"',\n",
      "                        'print >>timings_file, \"ASSIGNMENT TIMES:\"'\n",
      "                    ];\n",
      "                    timings.forEach(function(minutesTaken, assignmentIndex, arr) {\n",
      "                        pyCode.push('print >>timings_file, \"{0:03d}: {1:05d}\".format(' + assignmentIndex + ', ' + minutesTaken + ')');\n",
      "                    });\n",
      "                    kernel.execute(pyCode.join('\\n    '));\n",
      "                }\n",
      "            }\n",
      "        }\n",
      "        else {\n",
      "              alert('Unable to save, please manually create a file containing the times spent working on the assignments');\n",
      "        }\n",
      "    }\n",
      "</script>\n",
      "\n",
      "*Use this button to create a .txt file containing the time in minutes you spent working on the assignments. Make sure to include your name in the textbox below. The file will be created in the current directory.*\n",
      "\n",
      "\n",
      "Student's name:\n",
      "\n",
      "<input type=\"text\" id=\"usrname\" name=\"student_name\" />\n",
      "\n",
      "<input type=\"button\" onclick=\"javascript:create_time_file()\" value=\"Save timings\" />"
     ]
    }
   ],
   "metadata": {}
  }
 ]
}