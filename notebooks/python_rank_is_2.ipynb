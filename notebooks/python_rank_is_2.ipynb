{
 "metadata": {
  "name": "python_rank_is_2"
 },
 "nbformat": 3,
 "nbformat_minor": 0,
 "worksheets": [
  {
   "cells": [
    {
     "cell_type": "code",
     "collapsed": false,
     "input": [
      "from numpy import *\n",
      "from control import *\n",
      "A = Matrix(3,3, [-0.313, 56.7, 0, -0.0139, -0.426, 0, 0, 56.7, 0])\n",
      "B = Matrix(3,1, [0.232, 0.0203, 0])\n",
      "C = Matrix(1,3, [0, 0, 1])\n",
      "\n",
      "co = ctrb(A,B)\n",
      "Controllability = rank(co)\n",
      "\n",
      "print Controllability"
     ],
     "language": "python",
     "metadata": {},
     "outputs": [
      {
       "output_type": "stream",
       "stream": "stdout",
       "text": [
        "2\n"
       ]
      }
     ],
     "prompt_number": 1
    },
    {
     "cell_type": "code",
     "collapsed": false,
     "input": [
      "print co"
     ],
     "language": "python",
     "metadata": {},
     "outputs": [
      {
       "output_type": "stream",
       "stream": "stdout",
       "text": [
        "[[0.232000000000000 1.07839400000000 -1.01071374200000]\n",
        " [0.0203000000000000 -0.0118726000000000 -0.00993194900000000]\n",
        " [0 1.15101000000000 -0.673176420000000]]\n"
       ]
      }
     ],
     "prompt_number": 2
    },
    {
     "cell_type": "markdown",
     "metadata": {},
     "source": [
      "from Matlab:\n",
      "co =\n",
      "    0.2320    1.0784   -1.0107\n",
      "    0.0203   -0.0119   -0.0099\n",
      "         0    1.1510   -0.6732\n",
      ">> rank(co)\n",
      "ans =\n",
      "     3\n",
      "\n"
     ]
    },
    {
     "cell_type": "code",
     "collapsed": false,
     "input": [],
     "language": "python",
     "metadata": {},
     "outputs": []
    }
   ],
   "metadata": {}
  }
 ]
}