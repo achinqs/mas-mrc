{
 "metadata": {
  "name": ""
 },
 "nbformat": 3,
 "nbformat_minor": 0,
 "worksheets": [
  {
   "cells": [
    {
     "cell_type": "markdown",
     "metadata": {},
     "source": [
      "<style type=\"text/css\">\n",
      ".time_spent {\n",
      "    width: 3em;\n",
      "    border-style: none;\n",
      "    background-color: silver;\n",
      "    font-weight: bold;\n",
      "    padding-left: 5px;\n",
      "}\n",
      "</style>"
     ]
    },
    {
     "cell_type": "heading",
     "level": 1,
     "metadata": {},
     "source": [
      "Mathematics for Robotics and Control - Assignment 007: Root Locus"
     ]
    },
    {
     "cell_type": "code",
     "collapsed": false,
     "input": [
      "import sys\n",
      "# Windows and Linux so far have no problem with the inline backend...\n",
      "if not \"win\" in sys.platform and not \"linux\" in sys.platform:\n",
      "    %pylab\n",
      "# ...on other platforms we did run into problems in the past, so let's use the default backend\n",
      "else:\n",
      "    %pylab inline\n",
      "\n",
      "import control\n",
      "from control.matlab import *\n",
      "import matplotlib.pyplot as plt\n",
      "\n",
      "def tf_from_eq(Ts):\n",
      "    \"\"\"\n",
      "    Returns a (matlab.)tf from rational equation\n",
      "\n",
      "    Requires control.matlab, from control.matlab import *\n",
      "    \"\"\"\n",
      "    Ts = Ts.expand()\n",
      "    Ts_nd = Ts.as_numer_denom()\n",
      "    num = Poly(Ts_nd[0],s).all_coeffs()\n",
      "    den = Poly(Ts_nd[1],s).all_coeffs()\n",
      "    return tf(map(float,num),map(float,den))\n"
     ],
     "language": "python",
     "metadata": {},
     "outputs": [
      {
       "output_type": "stream",
       "stream": "stdout",
       "text": [
        "\n",
        "Welcome to pylab, a matplotlib-based Python environment [backend: module://IPython.zmq.pylab.backend_inline].\n",
        "For more information, type 'help(pylab)'.\n"
       ]
      }
     ],
     "prompt_number": 10
    },
    {
     "cell_type": "markdown",
     "metadata": {},
     "source": [
      "---"
     ]
    },
    {
     "cell_type": "markdown",
     "metadata": {},
     "source": [
      "**Assignment 7.1**:"
     ]
    },
    {
     "cell_type": "markdown",
     "metadata": {},
     "source": [
      "The system given in the figure below is operating with a damping ratio of $0.174$. It has a steady state error of $0.108$. Design a compensator that reduces the steady state error to zero without appreciably affecting the transient response of the system.\n",
      "\n",
      "<img src=\"http://localhost/~alex/notebooks/sys001.png\" />\n",
      "\n",
      "Go through following steps to solve this problem:\n",
      "    \n",
      "1. Find the gain K that corresponds to 0.174 damping ratio of the system. *Hint: Use rlocus command of matlab to plot the root locus of the Plant. Click\n",
      "on the root locus and find the location of the points (i.e. poles) on the root locus which belong to the damping ratio of 0.174. The value of gain at that point is the value of K*\n",
      "\n",
      "\n",
      "2. Verify that the steady state error of the system is 0.108, either by using the fact that the steady state error for a system supplied with step input is $e(\\infty) = \\frac{1}{1 + \\lim_{s \\to 0} G(s)}$ with $G(s) = K \\cdot H$ and $H$ being the transfer function of the plant, or by simulation (simulate the system for 100 seconds).\n",
      "3. We know that we can improve the steady state error by including an integrator in the forward path of the system. So, include an integrator in place of the gain block and plot the root locus of the forward path gain (i.e. TF of the cascaded integrator and the plant). Does the root locus resemble the root locus of the plant?\n",
      "4. You have added a pole (on the origin of s-plane) in the form of an integrator. To compensate it, also add a zero to the forward path near the origin at let's say -0.1. Plot the root locus of the forward path gain now. Does the root locus resemble the root locus of the plant?\n",
      "5. Using this new root locus, again find the poles where the damping ratio of the system is $0.174$. What is the gain $K_{new}$ of the system at that point?\n",
      "6. Create a compensator with the transfer function $\\frac{K_{new} \\cdot (s+0.1)}{s}$ and place it in place of $K$ in the previous system. Simulate the system. What is the steady state error of your compensated system? Is the transient response similar to your system without compensator (i.e. system with old gain and plant only)?\n",
      "7. Show your compensator as P and I blocks."
     ]
    },
    {
     "cell_type": "code",
     "collapsed": false,
     "input": [
      "s = Symbol(\"s\")\n",
      "plant = 1/((s+1)*(s+2)*(s+10))\n",
      "\n",
      "sys1 =  tf_from_eq(plant)\n",
      "\n",
      "\"\"\"\n",
      "\n",
      "Wait a moment. use rlocus command of matlab? Switching from iPython to MatLab.\n",
      "\n",
      "\n",
      "\"\"\"\n",
      "#syms s;\n",
      "#eq1 = 1/((s+1)*(s+2)*(s+10));\n",
      "#expand(eq1);\n",
      "#%% eq1 is: 1/(s^3 + 13*s^2 + 32*s + 20)\n",
      "#num = 1;\n",
      "#denom = [1 13 32 20];\n",
      "#sys = tf(num, denom);\n",
      "#\n",
      "#zeta = 0.174;\n",
      "#Wn = 1.0\n",
      "#\n",
      "#%% Graphically open SISO design tool and load sys from workspace\n",
      "#hold on;\n",
      "#rlocus(num,denom)\n",
      "#sgrid(zeta, Wn)\n",
      "#\n",
      "## Wn was not large enough zeta didn't cross Root Locus to click on intersection\n",
      "#sgrid(zeta, 4)\n",
      "#\n",
      "#[kd, poles] = rlocfind(num,denom)\n",
      "#%% \"Select a point in the graphics window\"\n",
      "#\n",
      "#%% I Chose point where rlocus plot crosses ratio 0.174 from sgrid\n",
      "#\n",
      "#selected_point =\n",
      "# -0.6856 + 3.8765i\n",
      "#kd =\n",
      "# 160.6131\n",
      "#poles =\n",
      "# -11.5835          \n",
      "# -0.7082 + 3.8847i\n",
      "# -0.7082 - 3.8847i\n",
      "\n"
     ],
     "language": "python",
     "metadata": {},
     "outputs": [
      {
       "output_type": "pyout",
       "prompt_number": 31,
       "text": [
        "                                                                              \n",
        "                                                                              \n",
        "Wait a moment. use rlocus command of matlab? Switching from iPython to MatLab.\n",
        "                                                                              \n",
        "                                                                              "
       ]
      }
     ],
     "prompt_number": 31
    },
    {
     "cell_type": "code",
     "collapsed": false,
     "input": [],
     "language": "python",
     "metadata": {},
     "outputs": [],
     "prompt_number": 42
    },
    {
     "cell_type": "markdown",
     "metadata": {},
     "source": [
      "<img src=\"http://localhost/~alex/notebooks/a7-1-2.jpg\">\n",
      "<img src=\"http://localhost/~alex/notebooks/a7-1-5.jpg\">\n",
      "<img src=\"http://localhost/~alex/notebooks/a7-1-6.jpg\">\n",
      "<img src=\"http://localhost/~alex/notebooks/sys001i.jpg\">"
     ]
    },
    {
     "cell_type": "markdown",
     "metadata": {},
     "source": []
    },
    {
     "cell_type": "markdown",
     "metadata": {},
     "source": [
      "*Assignment 7.1 took me* <input class=\"time_spent\" name=\"ex71_time_spent\" /> *minutes.*"
     ]
    },
    {
     "cell_type": "markdown",
     "metadata": {},
     "source": [
      "---"
     ]
    },
    {
     "cell_type": "markdown",
     "metadata": {},
     "source": [
      "**Assignment 7.2**:"
     ]
    },
    {
     "cell_type": "markdown",
     "metadata": {},
     "source": [
      "<img src=\"http://localhost/~alex/notebooks/sys0002.png\" />\n",
      "\n",
      "Design a PD controller for the system shown in the figure above and reduce the settling time by a factor of 4 while continuing to operate the system with 20% overshoot. Give the calculations and root locus plots where necessary. Follow the procedure described in example 9.3 in the attached PDF (PID_Controller_Design.pdf) to solve this exercise.\n",
      "\n",
      "Assume: $G(s) = \\frac{K}{s(s+5)(s+15)}$"
     ]
    },
    {
     "cell_type": "code",
     "collapsed": false,
     "input": [
      "import numpy as np\n",
      "PO = 20.0\n",
      "zeta = sqrt((log(PO/100.0))**2/(pi**2 + (log(PO/100.0))**2))\n",
      "\n"
     ],
     "language": "python",
     "metadata": {},
     "outputs": [
      {
       "output_type": "stream",
       "stream": "stdout",
       "text": [
        "0.455949810769\n"
       ]
      }
     ],
     "prompt_number": 42
    },
    {
     "cell_type": "markdown",
     "metadata": {},
     "source": [
      "%% MatLab\n",
      "\n",
      ">> expand(1/(s*(s+5)*(s+15)));\n",
      ">> num = 1;\n",
      ">> den = [1 20 75 0];\n",
      ">> rlocus(num,den);\n",
      ">> sgrid(zeta,4);\n",
      "\n",
      "<img src=\"http://localhost/~alex/notebooks/a7-2-a.jpg\" >\n",
      "\n",
      "<img src=\"http://localhost/~alex/notebooks/a7-2-b.jpg\" >\n"
     ]
    },
    {
     "cell_type": "markdown",
     "metadata": {},
     "source": [
      "*Assignment 7.2 took me* <input class=\"time_spent\" name=\"ex72_time_spent\" /> *minutes.*"
     ]
    },
    {
     "cell_type": "markdown",
     "metadata": {},
     "source": [
      "---"
     ]
    },
    {
     "cell_type": "markdown",
     "metadata": {},
     "source": [
      "**Assignment 7.3**:"
     ]
    },
    {
     "cell_type": "markdown",
     "metadata": {},
     "source": [
      "Using the same system diagram as above, but assuming $G(s) = \\frac{K(s+7)}{(s+3)(s+6)(s+9)}$, design a PID controller for the system shown in fig. 3 so that the system can operate with a peak time that is two-thirds that of the uncompensated system at 20% overshoot and with zero steady state error for a step input. Give the calculations and root locus plots where necessary. Use a procedure similar to what is described in example 9.5 in the attached PDF.\n"
     ]
    },
    {
     "cell_type": "markdown",
     "metadata": {},
     "source": [
      "*Assignment 7.3 took me* <input class=\"time_spent\" name=\"ex73_time_spent\" /> *minutes.*"
     ]
    },
    {
     "cell_type": "markdown",
     "metadata": {},
     "source": [
      "---"
     ]
    },
    {
     "cell_type": "markdown",
     "metadata": {},
     "source": [
      "<script type=\"text/javascript\">\n",
      "    function validTime(minutes) { \n",
      "        var numberIsSane = isFinite(parseInt(minutes, 10)) && (parseFloat(minutes, 10) == parseInt(minutes, 10)); \n",
      "        var numberInRange = ( (minutes >= 1) && (minutes < 60*24*7) );\n",
      "        return (numberIsSane && numberInRange);\n",
      "    }\n",
      "    function create_time_file() {\n",
      "        var kernel = IPython.notebook.kernel;\n",
      "        if (kernel) {\n",
      "            var studentName = $('#usrname').val();\n",
      "            var filename = 'MRC_' + encodeURIComponent(studentName.replace(' ', '')) + '_20130527.txt'\n",
      "            var inputElements = $(':text.time_spent');\n",
      "            var timings = new Array();\n",
      "            if (inputElements) {\n",
      "                var allTimesAreValid = true;\n",
      "                var invalidTimeValue = null;\n",
      "                inputElements.each(function() {\n",
      "                    if (!validTime(this.value)) {\n",
      "                        allTimesAreValid = false;\n",
      "                        invalidTimeValue = this.value;\n",
      "                        return;\n",
      "                    }\n",
      "                    timings.push(this.value);\n",
      "                });\n",
      "                if (!allTimesAreValid) {\n",
      "                    alert('Unable to save assignment times, invalid time value <' + invalidTimeValue + '>');\n",
      "                    return;\n",
      "                }\n",
      "                if (!studentName) {\n",
      "                    alert('Please include your name in the submission');\n",
      "                    return;\n",
      "                }\n",
      "                if (confirm('Here are the timings I am going to save:\\n\\n' + timings.join(\" minutes\\n\") + ' minutes\\n\\nFilename: ' + filename + '\\n\\nDo you want me to continue?')) {\n",
      "                    var pyCode = [\n",
      "                        'with open(\"' + filename + '\", \"w\") as timings_file:',\n",
      "                        'print >>timings_file, \"NAME:\", \"' + studentName + '\"',\n",
      "                        'print >>timings_file, \"ASSIGNMENT TIMES:\"'\n",
      "                    ];\n",
      "                    timings.forEach(function(minutesTaken, assignmentIndex, arr) {\n",
      "                        pyCode.push('print >>timings_file, \"{0:03d}: {1:05d}\".format(' + assignmentIndex + ', ' + minutesTaken + ')');\n",
      "                    });\n",
      "                    kernel.execute(pyCode.join('\\n    '));\n",
      "                }\n",
      "            }\n",
      "        }\n",
      "        else {\n",
      "              alert('Unable to save, please manually create a file containing the times spent working on the assignments');\n",
      "        }\n",
      "    }\n",
      "</script>\n",
      "\n",
      "*Use this button to create a .txt file containing the time in minutes you spent working on the assignments. Make sure to include your name in the textbox below. The file will be created in the current directory.*\n",
      "\n",
      "\n",
      "Student's name:\n",
      "\n",
      "<input type=\"text\" id=\"usrname\" name=\"student_name\" />\n",
      "\n",
      "<input type=\"button\" onclick=\"javascript:create_time_file()\" value=\"Save timings\" />"
     ]
    }
   ],
   "metadata": {}
  }
 ]
}