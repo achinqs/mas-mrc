{
 "metadata": {
  "name": ""
 },
 "nbformat": 3,
 "nbformat_minor": 0,
 "worksheets": [
  {
   "cells": [
    {
     "cell_type": "code",
     "collapsed": false,
     "input": [],
     "language": "python",
     "metadata": {},
     "outputs": []
    },
    {
     "cell_type": "markdown",
     "metadata": {},
     "source": [
      "**WEEK 1: Frames **\n",
      "\n",
      "**Modules**:\n",
      "\n",
      "* numpy\n",
      "* matplotlib.pyplot\n",
      "* sympy.physics.mechanics\n",
      "\n",
      "**Functions**:\n",
      "\n",
      "numpy:\n",
      "\n",
      "* arange, apply_along_axis, array, asarray, diag, dstack, flat, flatten, hstack, linspace, load, ones, ravel, save, shape, split, squeeze, vstack, zeros\n",
      "\n",
      "\n",
      " matplotlib.pyplot:\n",
      "\n",
      "* cla, clf, figure, gca, legend, plot, show, subplot, title, xlabel, xlim, ylabel, ylim\n",
      "\n",
      "\n",
      "sympy.physics.mechanics.ReferenceFrame:\n",
      "\n",
      "* dcm, orient, orientnew, x, y, z"
     ]
    },
    {
     "cell_type": "code",
     "collapsed": false,
     "input": [],
     "language": "python",
     "metadata": {},
     "outputs": []
    },
    {
     "cell_type": "markdown",
     "metadata": {},
     "source": [
      "**WEEK 2: Matrices, Vector Norms, EigenValues, EigenVectors **\n",
      "\n",
      "**Modules**:\n",
      "\n",
      "* glob\n",
      "* matplotlib\n",
      "* numpy\n",
      "* numpy.linalg\n",
      "* PIL.Image\n",
      "* scipy.misc\n",
      "\n",
      "**Functions**:\n",
      "\n",
      "glob:\n",
      "\n",
      "* glob, iglob\n",
      "\n",
      "matplotlib:\n",
      "\n",
      "* imshow\n",
      "\n",
      "numpy:\n",
      "\n",
      "* abs, argsort, cov, dot, empty_like, fliplr, fmax, fmin, loadtxt, min, max, nanmin, nanmax, sort, sum, sqrt, where\n",
      "\n",
      "numpy.linalg:\n",
      "\n",
      "* eig, eigh, eigvals, matrix_rank, norm\n",
      "\n",
      "PIL.Image:\n",
      "\n",
      "* open\n",
      "\n",
      "scipy.misc:\n",
      "\n",
      "* imresize, imfilter"
     ]
    },
    {
     "cell_type": "code",
     "collapsed": false,
     "input": [],
     "language": "python",
     "metadata": {},
     "outputs": []
    },
    {
     "cell_type": "markdown",
     "metadata": {},
     "source": [
      "**Week 3: Matrix Decomposition **\n",
      "\n",
      "**Modules**:\n",
      "\n",
      "* numpy.linalg\n",
      "\n",
      "**Functions**:\n",
      "\n",
      "numpy.linalg:\n",
      "\n",
      "* qr, svd\n"
     ]
    },
    {
     "cell_type": "code",
     "collapsed": false,
     "input": [],
     "language": "python",
     "metadata": {},
     "outputs": []
    },
    {
     "cell_type": "markdown",
     "metadata": {},
     "source": [
      "**WEEK 6: Signals and Systems **\n",
      "\n",
      "(No Module lists for Weeks 4 and 5)\n",
      "\n",
      "**Modules**:\n",
      "\n",
      "* control\n",
      "* numpy\n",
      "* scipy.io.wavfile\n",
      "* scipy.signal\n",
      "\n",
      "\n",
      "**Functions**:\n",
      "\n",
      "control:\n",
      "\n",
      "* feedback, parallel, series, tf\n",
      "\n",
      "scipy.io.wavfile:\n",
      "\n",
      "* read"
     ]
    },
    {
     "cell_type": "code",
     "collapsed": false,
     "input": [],
     "language": "python",
     "metadata": {},
     "outputs": []
    },
    {
     "cell_type": "markdown",
     "metadata": {},
     "source": [
      "**WEEK 7: SymPy and ODEs**\n",
      "\n",
      "For this assignment, you will be working with symbolic mathematics using the SymPy package for Python. In order to be able to work with the package efficiently, please familiarize yourself with SymPy by working through the tutorial:\n",
      "\n",
      "[SymPy Tutorial](http://docs.sympy.org/dev/tutorial/tutorial.en.html#tutorial)\n",
      "        \n",
      "Also, make sure you know how SymPy differes from other CAS like Maple or Mathematica, which you may be familiar with. This information is detailed in the following document:\n",
      "    \n",
      "[SymPy Gotchas](http://docs.sympy.org/dev/gotchas.html)\n",
      "        \n",
      "There is also an FAQ:\n",
      "    \n",
      "[SymPy FAQ](https://github.com/sympy/sympy/wiki/Faq)\n"
     ]
    },
    {
     "cell_type": "code",
     "collapsed": false,
     "input": [],
     "language": "python",
     "metadata": {},
     "outputs": []
    },
    {
     "cell_type": "markdown",
     "metadata": {},
     "source": [
      "**WEEK 8: Control**\n",
      "    \n",
      "Answer the following questions:\n",
      "\n",
      "1. What is open-loop control?\n",
      "2. What is closed-loop control?\n",
      "3. What is a transfer function?\n",
      "4. What is the difference between the open and closed transfer function?\n",
      "5. What are poles, what are zeros of a transfer function?\n",
      "6. Given that the numerator and denominator polynomials of a transfer function have real coefficients, what does that mean for the poles of the transfer function (mathematically)? What does it mean for the zeros?\n",
      "7. What is the order of a system? How can you determine it, given the different system representations you know?\n",
      "8. Imagine you have a system description made up of several ODEs, how would you obtain a system representation that you can easily analyze/simulate/control on a computer?\n",
      "9. What is the steady-state response of a system?\n",
      "10. What is the transient response of a system?\n",
      "11. What is the homogenuous response of a system?\n",
      "12. What is the step response of a system?\n",
      "13. What is the impulse response of a system?\n",
      "14. For each response, describe it's usefulness / applications. Why are we interested in the different responses? What do they tell us?\n",
      "15. Describe the transient response and it's importance in your own words.\n",
      "16. What are the properties of the transient response? How can you determine each of the properties given a system's description?"
     ]
    },
    {
     "cell_type": "code",
     "collapsed": false,
     "input": [],
     "language": "python",
     "metadata": {},
     "outputs": []
    }
   ],
   "metadata": {}
  }
 ]
}