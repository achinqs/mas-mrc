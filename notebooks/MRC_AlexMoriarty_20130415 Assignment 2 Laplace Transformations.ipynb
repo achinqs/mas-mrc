{
 "metadata": {
  "name": ""
 },
 "nbformat": 3,
 "nbformat_minor": 0,
 "worksheets": [
  {
   "cells": [
    {
     "cell_type": "markdown",
     "metadata": {},
     "source": [
      "<style type=\"text/css\">\n",
      ".time_spent {\n",
      "    width: 3em;\n",
      "    border-style: none;\n",
      "    background-color: silver;\n",
      "    font-weight: bold;\n",
      "    padding-left: 5px;\n",
      "}\n",
      "</style>"
     ]
    },
    {
     "cell_type": "heading",
     "level": 1,
     "metadata": {},
     "source": [
      "Mathematics for Robotics and Control - Assignment 2: Laplace Transformations"
     ]
    },
    {
     "cell_type": "markdown",
     "metadata": {},
     "source": [
      "---"
     ]
    },
    {
     "cell_type": "heading",
     "level": 4,
     "metadata": {},
     "source": [
      "Assignment 2.1: Laplace Transformations"
     ]
    },
    {
     "cell_type": "markdown",
     "metadata": {},
     "source": [
      "Find the Laplace transform Y(s) and sketch the pole-zero plot, including the region of convergence, for the following signals:\n",
      "    \n",
      "1. $y(t) = e^{-2 \\cdot t} \\cdot u(t) + e^{-3 \\cdot t} \\cdot u(t)$\n",
      "2. $y(t) = e^{-3 \\cdot t} \\cdot u(t) + e^{2 \\cdot t} \\cdot u(-t)$\n",
      "3. $y(t) = e^{2 \\cdot t} \\cdot u(t) + e^{-3 \\cdot t} \\cdot u(-t)$"
     ]
    },
    {
     "cell_type": "markdown",
     "metadata": {},
     "source": [
      "Transforms\n",
      "\n"
     ]
    },
    {
     "cell_type": "code",
     "collapsed": false,
     "input": [
      "# Enable inline plotting and functions with a Matlab-like interface\n",
      "%pylab osx\n",
      "import sympy\n",
      "sympy.init_printing(use_latex=True)"
     ],
     "language": "python",
     "metadata": {},
     "outputs": [
      {
       "output_type": "stream",
       "stream": "stdout",
       "text": [
        "\n",
        "Welcome to pylab, a matplotlib-based Python environment [backend: MacOSX].\n",
        "For more information, type 'help(pylab)'.\n"
       ]
      }
     ],
     "prompt_number": 4
    },
    {
     "cell_type": "code",
     "collapsed": false,
     "input": [
      "from control import tf\n",
      "from control.pzmap import pzmap\n",
      "\n",
      "transfer_function = tf([2, 5], [1, 5, 6])\n",
      "print \"Transfer function:\\n\", str(transfer_function)\n",
      "\n",
      "poles, zeros = pzmap(transfer_function, True)\n",
      "\n",
      "print \"Poles:\", poles\n",
      "print \"Zeros:\", zeros"
     ],
     "language": "python",
     "metadata": {},
     "outputs": [
      {
       "output_type": "stream",
       "stream": "stdout",
       "text": [
        "Transfer function:\n",
        "\n",
        "      1\n",
        "-------------\n",
        "s^2 + 5 s + 6\n",
        "\n",
        "Poles:"
       ]
      },
      {
       "output_type": "stream",
       "stream": "stdout",
       "text": [
        " [-3. -2.]\n",
        "Zeros: []\n"
       ]
      }
     ],
     "prompt_number": 7
    },
    {
     "cell_type": "markdown",
     "metadata": {},
     "source": [
      "Note that this plot does not contain the region of convergence. Here is a [tutorial on Matplotlib](http://www.loria.fr/~rougier/teaching/matplotlib/) in case you need to figure out on how to plot additional elements on top of your figure. Also, have a look at the [Matplotlib gallery](http://matplotlib.org/gallery.html) for \"inspiration\" and to see Matplotlib's capabilities."
     ]
    },
    {
     "cell_type": "code",
     "collapsed": false,
     "input": [],
     "language": "python",
     "metadata": {},
     "outputs": []
    },
    {
     "cell_type": "markdown",
     "metadata": {},
     "source": [
      "*Assignment 2.1 took me* <input class=\"time_spent\" name=\"ex21_time_spent\" /> *minutes.*"
     ]
    },
    {
     "cell_type": "markdown",
     "metadata": {},
     "source": [
      "---"
     ]
    },
    {
     "cell_type": "heading",
     "level": 4,
     "metadata": {},
     "source": [
      "Assignment 2.3: Model two coupled cars using differential equations"
     ]
    },
    {
     "cell_type": "markdown",
     "metadata": {},
     "source": [
      "Observe the following picture. $m_1$ and $m_2$ are two moving masses (e.g. cars) that are connected to each other via a connection that is modeled as a spring with a [stiffness](https://en.wikipedia.org/wiki/Stiffness) of $c$. $v_1$ and $v_2$ are the respective velocities of each mass, $s_1$, $s_2$ give their position, $a$ is the distance between the cars, while $F_1$ and $F_2$ are external forces applied to each car. Finally, $d_1$ and $d_2$ are the friction coefficients as they apply to each car, *w.r.t to their velocities*.\n",
      "    \n",
      "<img src=\"http://localhost/~alex/notebooks/connected_cars.png\" />\n",
      "\n",
      "For simplicity, assume that $m_1 = m_2 = 1$. \n",
      "\n",
      "1. What is the characteristic equation that models this system?\n",
      "2. Set $d_1 = d_2 = 0$ and specify the system's [poles](http://en.wikipedia.org/wiki/Pole_%28complex_analysis%29).\n",
      "3. Give the transfer function $F_1 \\rightarrow a$, i.e. $G(s) = \\frac{a(s)}{F_1(s)}$."
     ]
    },
    {
     "cell_type": "markdown",
     "metadata": {},
     "source": [
      "*Assignment 2.3 took me* <input class=\"time_spent\" name=\"ex23_time_spent\" /> *minutes.*"
     ]
    },
    {
     "cell_type": "markdown",
     "metadata": {},
     "source": [
      "---"
     ]
    },
    {
     "cell_type": "markdown",
     "metadata": {},
     "source": [
      "<script type=\"text/javascript\">\n",
      "    function validTime(minutes) { \n",
      "        var numberIsSane = isFinite(parseInt(minutes, 10)) && (parseFloat(minutes, 10) == parseInt(minutes, 10)); \n",
      "        var numberInRange = ( (minutes >= 1) && (minutes < 60*24*7) );\n",
      "        return (numberIsSane && numberInRange);\n",
      "    }\n",
      "    function create_time_file(filename) {\n",
      "        var kernel = IPython.notebook.kernel;\n",
      "        if (kernel) {\n",
      "            var studentName = $('#usrname').val();\n",
      "            var inputElements = $(':text.time_spent');\n",
      "            var timings = new Array();\n",
      "            if (inputElements) {\n",
      "                var allTimesAreValid = true;\n",
      "                var invalidTimeValue = null;\n",
      "                inputElements.each(function() {\n",
      "                    if (!validTime(this.value)) {\n",
      "                        allTimesAreValid = false;\n",
      "                        invalidTimeValue = this.value;\n",
      "                        return;\n",
      "                    }\n",
      "                    timings.push(this.value);\n",
      "                });\n",
      "                if (!allTimesAreValid) {\n",
      "                    alert('Unable to save assignment times, invalid time value <' + invalidTimeValue + '>');\n",
      "                    return;\n",
      "                }\n",
      "                if (!studentName) {\n",
      "                    alert('Please include your name in the submission');\n",
      "                    return;\n",
      "                }\n",
      "                if (confirm('Here are the timings I am going to save:\\n\\n' + timings.join(\" minutes\\n\") + ' minutes\\n\\nDo you want me to continue?')) {\n",
      "                    var pyCode = [\n",
      "                        'with open(\"' + filename + '\", \"w\") as timings_file:',\n",
      "                        'print >>timings_file, \"NAME:\", \"' + studentName + '\"',\n",
      "                        'print >>timings_file, \"ASSIGNMENT TIMES:\"'\n",
      "                    ];\n",
      "                    timings.forEach(function(minutesTaken, assignmentIndex, arr) {\n",
      "                        pyCode.push('print >>timings_file, \"{0:03d}: {1:05d}\".format(' + assignmentIndex + ', ' + minutesTaken + ')');\n",
      "                    });\n",
      "                    kernel.execute(pyCode.join('\\n    '));\n",
      "                }\n",
      "            }\n",
      "        }\n",
      "        else {\n",
      "              alert('Unable to save, please manually create a file containing the times spent working on the assignments');\n",
      "        }\n",
      "    }\n",
      "</script>\n",
      "\n",
      "*Use this button to create a .txt file containing the time in minutes you spent working on the assignments. Make sure to include your name in the textbox below. The file will be created in the current directory.*\n",
      "\n",
      "\n",
      "Student's name:\n",
      "\n",
      "<input type=\"text\" id=\"usrname\" name=\"student_name\" />\n",
      "\n",
      "<input type=\"button\" onclick=\"javascript:create_time_file('assignment_times_mrc_0002.txt')\" value=\"Save timings\" />"
     ]
    },
    {
     "cell_type": "code",
     "collapsed": false,
     "input": [],
     "language": "python",
     "metadata": {},
     "outputs": []
    }
   ],
   "metadata": {}
  }
 ]
}