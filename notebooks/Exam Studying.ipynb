{
 "metadata": {
  "name": "Exam Studying"
 },
 "nbformat": 3,
 "nbformat_minor": 0,
 "worksheets": [
  {
   "cells": [
    {
     "cell_type": "code",
     "collapsed": false,
     "input": [
      "import sys\n",
      "# Windows and Linux so far have no problem with the inline backend...\n",
      "if not \"win\" in sys.platform and not \"linux\" in sys.platform:\n",
      "    %pylab\n",
      "# ...on other platforms we did run into problems in the past, so let's use the default backend\n",
      "else:\n",
      "    %pylab inline\n",
      "\n",
      "import control\n",
      "from control.matlab import *\n",
      "import matplotlib.pyplot as plt\n",
      "\n",
      "import control\n",
      "from control.matlab import *\n",
      "Gs = 1/(s**3+5*s**2+20*s+6)\n"
     ],
     "language": "python",
     "metadata": {},
     "outputs": [
      {
       "output_type": "stream",
       "stream": "stdout",
       "text": [
        "\n",
        "Welcome to pylab, a matplotlib-based Python environment [backend: module://IPython.zmq.pylab.backend_inline].\n",
        "For more information, type 'help(pylab)'.\n"
       ]
      }
     ],
     "prompt_number": 23
    },
    {
     "cell_type": "code",
     "collapsed": false,
     "input": [
      "s = Symbol('s')\n",
      "Gs = 1/(s**3+5*s**2+20*s+6)"
     ],
     "language": "python",
     "metadata": {},
     "outputs": [
      {
       "output_type": "stream",
       "stream": "stdout",
       "text": [
        "1/(s**3 + 5*s**2 + 20*s + 6)\n"
       ]
      }
     ],
     "prompt_number": 10
    },
    {
     "cell_type": "code",
     "collapsed": false,
     "input": [
      "Gs"
     ],
     "language": "python",
     "metadata": {},
     "outputs": [
      {
       "latex": [
        "$$\\frac{1}{s^{3} + 5 s^{2} + 20 s + 6}$$"
       ],
       "output_type": "pyout",
       "png": "[encoded data removed]",
       "prompt_number": 3,
       "text": [
        "         1          \n",
        "\u2500\u2500\u2500\u2500\u2500\u2500\u2500\u2500\u2500\u2500\u2500\u2500\u2500\u2500\u2500\u2500\u2500\u2500\u2500\u2500\n",
        " 3      2           \n",
        "s  + 5\u22c5s  + 20\u22c5s + 6"
       ]
      }
     ],
     "prompt_number": 3
    },
    {
     "cell_type": "code",
     "collapsed": false,
     "input": [
      "h = control.tf([1],[1, 5, 20, 6])\n",
      "print h"
     ],
     "language": "python",
     "metadata": {},
     "outputs": [
      {
       "output_type": "stream",
       "stream": "stdout",
       "text": [
        "\n",
        "          1\n",
        "----------------------\n",
        "s^3 + 5 s^2 + 20 s + 6\n",
        "\n"
       ]
      }
     ],
     "prompt_number": 15
    },
    {
     "cell_type": "code",
     "collapsed": false,
     "input": [
      "import rlocus2\n",
      "dir(rlocus2)\n"
     ],
     "language": "python",
     "metadata": {},
     "outputs": [
      {
       "output_type": "pyout",
       "prompt_number": 20,
       "text": [
        "[RootLocusResult, __builtins__, __doc__, __file__, __name__, __package__, angl\n",
        "e_between_points_on_complex_plane, collections, control, damping_coefficient_a\n",
        "t, distance_between_points_on_complex_plane, functools, gain_at, numpy, oversh\n",
        "oot_from_damping_coefficient, plt, point_is_on_root_locus, rlocusfind, sys, un\n",
        "damped_natural_frequency_at]"
       ]
      }
     ],
     "prompt_number": 20
    },
    {
     "cell_type": "code",
     "collapsed": false,
     "input": [
      "r,k = rlocus(h)\n",
      "\n"
     ],
     "language": "python",
     "metadata": {},
     "outputs": [
      {
       "output_type": "display_data",
       "png": "[encoded data removed]"
      }
     ],
     "prompt_number": 30
    },
    {
     "cell_type": "code",
     "collapsed": false,
     "input": [],
     "language": "python",
     "metadata": {},
     "outputs": [],
     "prompt_number": 32
    },
    {
     "cell_type": "code",
     "collapsed": false,
     "input": [
      "y,t = step(h)\n"
     ],
     "language": "python",
     "metadata": {},
     "outputs": [],
     "prompt_number": 34
    },
    {
     "cell_type": "code",
     "collapsed": false,
     "input": [
      "plot(t,y)"
     ],
     "language": "python",
     "metadata": {},
     "outputs": [
      {
       "output_type": "pyout",
       "prompt_number": 38,
       "text": [
        "[Line2D(_line0)]"
       ]
      },
      {
       "output_type": "display_data",
       "png": "[encoded data removed]"
      }
     ],
     "prompt_number": 38
    },
    {
     "cell_type": "code",
     "collapsed": false,
     "input": [
      "K = Symbol('K')"
     ],
     "language": "python",
     "metadata": {},
     "outputs": [],
     "prompt_number": 40
    },
    {
     "cell_type": "code",
     "collapsed": false,
     "input": [
      "Gs= 1/(s*(s+3)*(s+11)*(s+8))"
     ],
     "language": "python",
     "metadata": {},
     "outputs": [],
     "prompt_number": 41
    },
    {
     "cell_type": "code",
     "collapsed": false,
     "input": [
      "Gs"
     ],
     "language": "python",
     "metadata": {},
     "outputs": [
      {
       "latex": [
        "$$\\frac{1}{s \\left(s + 3\\right) \\left(s + 8\\right) \\left(s + 11\\right)}$$"
       ],
       "output_type": "pyout",
       "png": "[encoded data removed]",
       "prompt_number": 42,
       "text": [
        "            1             \n",
        "\u2500\u2500\u2500\u2500\u2500\u2500\u2500\u2500\u2500\u2500\u2500\u2500\u2500\u2500\u2500\u2500\u2500\u2500\u2500\u2500\u2500\u2500\u2500\u2500\u2500\u2500\n",
        "s\u22c5(s + 3)\u22c5(s + 8)\u22c5(s + 11)"
       ]
      }
     ],
     "prompt_number": 42
    },
    {
     "cell_type": "code",
     "collapsed": false,
     "input": [
      "f = (Gs / (1 + Gs))\n",
      "\n",
      "f.expand().expand().as_numer_denom()"
     ],
     "language": "python",
     "metadata": {},
     "outputs": [
      {
       "latex": [
        "$$\\begin{pmatrix}200 s^{3} + s^{2} \\left(s^{3} + 50 s^{2} + 800 s + 6000\\right) + 10000 s^{2} + 30 s \\left(s^{3} + 50 s^{2} + 800 s + 6000\\right) + 160000 s + 1200000, & s^{5} + 80 s^{4} + 2500 s^{3} + 40000 s^{2} + 340000 s + \\left(s^{3} + 50 s^{2} + 800 s + 6000\\right)^{2} + 1200000\\end{pmatrix}$$"
       ],
       "output_type": "pyout",
       "prompt_number": 77,
       "text": [
        "\u239b                                                                             \n",
        "\u239c     3    2 \u239b 3       2               \u239e          2        \u239b 3       2        \n",
        "\u239d200\u22c5s  + s \u22c5\u239ds  + 50\u22c5s  + 800\u22c5s + 6000\u23a0 + 10000\u22c5s  + 30\u22c5s\u22c5\u239ds  + 50\u22c5s  + 800\u22c5s\n",
        "\n",
        "                                                                              \n",
        "       \u239e                        5       4         3          2              \u239b \n",
        " + 6000\u23a0 + 160000\u22c5s + 1200000, s  + 80\u22c5s  + 2500\u22c5s  + 40000\u22c5s  + 340000\u22c5s + \u239ds\n",
        "\n",
        "                         2          \u239e\n",
        "3       2               \u239e           \u239f\n",
        "  + 50\u22c5s  + 800\u22c5s + 6000\u23a0  + 1200000\u23a0"
       ]
      }
     ],
     "prompt_number": 77
    },
    {
     "cell_type": "code",
     "collapsed": false,
     "input": [
      "Ts = f\n",
      "num = Poly(Ts.as_numer_denom()[0],s).all_coeffs()\n",
      "den = Poly(Ts.as_numer_denom()[1],s).all_coeffs()\n",
      "t = tf(map(float,num),map(float,den))\n",
      "print tf\n"
     ],
     "language": "python",
     "metadata": {},
     "outputs": [
      {
       "output_type": "stream",
       "stream": "stdout",
       "text": [
        "<function tf at 0x10a92fb90>\n"
       ]
      }
     ],
     "prompt_number": 73
    },
    {
     "cell_type": "code",
     "collapsed": false,
     "input": [
      "h2 = tf([0.5,0,3],[1, 22, 145, 264, 0])\n",
      "r, k = rlocus(h2)"
     ],
     "language": "python",
     "metadata": {},
     "outputs": [
      {
       "output_type": "display_data",
       "png": "[encoded data removed]"
      }
     ],
     "prompt_number": 55
    },
    {
     "cell_type": "code",
     "collapsed": false,
     "input": [
      "Gs = K((s+10)*(s+20))/((s+30)*(s**2+20*s+200))"
     ],
     "language": "python",
     "metadata": {},
     "outputs": [],
     "prompt_number": 56
    },
    {
     "cell_type": "code",
     "collapsed": false,
     "input": [
      "Gs"
     ],
     "language": "python",
     "metadata": {},
     "outputs": [
      {
       "latex": [
        "$$\\frac{\\left(s + 10\\right) \\left(s + 20\\right)}{\\left(s + 30\\right) \\left(s^{2} + 20 s + 200\\right)}$$"
       ],
       "output_type": "pyout",
       "png": "[encoded data removed]",
       "prompt_number": 57,
       "text": [
        "    (s + 10)\u22c5(s + 20)     \n",
        "\u2500\u2500\u2500\u2500\u2500\u2500\u2500\u2500\u2500\u2500\u2500\u2500\u2500\u2500\u2500\u2500\u2500\u2500\u2500\u2500\u2500\u2500\u2500\u2500\u2500\u2500\n",
        "         \u239b 2             \u239e\n",
        "(s + 30)\u22c5\u239ds  + 20\u22c5s + 200\u23a0"
       ]
      }
     ],
     "prompt_number": 57
    },
    {
     "cell_type": "code",
     "collapsed": false,
     "input": [
      "Gs.expand()"
     ],
     "language": "python",
     "metadata": {},
     "outputs": [
      {
       "latex": [
        "$$\\frac{s^{2}}{s^{3} + 50 s^{2} + 800 s + 6000} + 30 \\frac{s}{s^{3} + 50 s^{2} + 800 s + 6000} + \\frac{200}{s^{3} + 50 s^{2} + 800 s + 6000}$$"
       ],
       "output_type": "pyout",
       "png": "[encoded data removed]",
       "prompt_number": 60,
       "text": [
        "             2                                                                \n",
        "            s                          30\u22c5s                        200        \n",
        "\u2500\u2500\u2500\u2500\u2500\u2500\u2500\u2500\u2500\u2500\u2500\u2500\u2500\u2500\u2500\u2500\u2500\u2500\u2500\u2500\u2500\u2500\u2500\u2500\u2500 + \u2500\u2500\u2500\u2500\u2500\u2500\u2500\u2500\u2500\u2500\u2500\u2500\u2500\u2500\u2500\u2500\u2500\u2500\u2500\u2500\u2500\u2500\u2500\u2500\u2500 + \u2500\u2500\u2500\u2500\u2500\u2500\u2500\u2500\u2500\u2500\u2500\u2500\u2500\u2500\u2500\u2500\u2500\u2500\u2500\u2500\u2500\u2500\n",
        " 3       2                   3       2                   3       2            \n",
        "s  + 50\u22c5s  + 800\u22c5s + 6000   s  + 50\u22c5s  + 800\u22c5s + 6000   s  + 50\u22c5s  + 800\u22c5s + 6\n",
        "\n",
        "   \n",
        "   \n",
        "\u2500\u2500\u2500\n",
        "   \n",
        "000"
       ]
      }
     ],
     "prompt_number": 60
    },
    {
     "cell_type": "code",
     "collapsed": false,
     "input": [
      "h = tf([1, 30, 200],[1, 50, 800, 6000])\n",
      "r, k = rlocus(h)"
     ],
     "language": "python",
     "metadata": {},
     "outputs": [
      {
       "output_type": "display_data",
       "png": "[encoded data removed]"
      }
     ],
     "prompt_number": 61
    },
    {
     "cell_type": "code",
     "collapsed": false,
     "input": [
      "print r\n",
      "print k\n"
     ],
     "language": "python",
     "metadata": {},
     "outputs": [
      {
       "output_type": "stream",
       "stream": "stdout",
       "text": [
        "[[  -30.00040001+0.j           -10.00029999-9.99989999j\n",
        "    -10.00029999+9.99989999j]\n",
        " [  -30.00053030+0.j           -10.00039770-9.99986742j\n",
        "    -10.00039770+9.99986742j]\n",
        " [  -30.00070304+0.j           -10.00052724-9.99982423j\n",
        "    -10.00052724+9.99982423j]\n",
        " [  -30.00093204+0.j           -10.00069896-9.99976697j\n",
        "    -10.00069896+9.99976697j]\n",
        " [  -30.00123564+0.j           -10.00092660-9.99969106j\n",
        "    -10.00092660+9.99969106j]\n",
        " [  -30.00163815+0.j           -10.00122838-9.99959041j\n",
        "    -10.00122838+9.99959041j]\n",
        " [  -30.00217180+0.j           -10.00162844-9.99945696j\n",
        "    -10.00162844+9.99945696j]\n",
        " [  -30.00287932+0.j           -10.00215877-9.99928001j\n",
        "    -10.00215877+9.99928001j]\n",
        " [  -30.00381740+0.j           -10.00286178-9.99904538j\n",
        "    -10.00286178+9.99904538j]\n",
        " [  -30.00506121+0.j           -10.00379367-9.99873422j\n",
        "    -10.00379367+9.99873422j]\n",
        " [  -30.00671048+0.j           -10.00502892-9.99832154j\n",
        "    -10.00502892+9.99832154j]\n",
        " [  -30.00889752+0.j           -10.00666622-9.99777414j\n",
        "    -10.00666622+9.99777414j]\n",
        " [  -30.01179794+0.j           -10.00883629-9.99704791j\n",
        "    -10.00883629+9.99704791j]\n",
        " [  -30.01564486+0.j           -10.01171227-9.99608422j\n",
        "    -10.01171227+9.99608422j]\n",
        " [  -30.02074797+0.j           -10.01552339-9.99480499j\n",
        "    -10.01552339+9.99480499j]\n",
        " [  -30.02751881+0.j           -10.02057304-9.99310621j\n",
        "    -10.02057304+9.99310621j]\n",
        " [  -30.03650485+0.j           -10.02726249-9.99084907j\n",
        "    -10.02726249+9.99084907j]\n",
        " [  -30.04843507+0.j           -10.03612209-9.98784786j\n",
        "    -10.03612209+9.98784786j]\n",
        " [  -30.06428162+0.j           -10.04785213-9.98385355j\n",
        "    -10.04785213+9.98385355j]\n",
        " [  -30.08534326+0.j           -10.06337592-9.97853097j\n",
        "    -10.06337592+9.97853097j]\n",
        " [  -30.11335948+0.j           -10.08390870-9.971427j\n",
        "    -10.08390870+9.971427j  ]\n",
        " [  -30.15066754+0.j           -10.11104592-9.96192571j\n",
        "    -10.11104592+9.96192571j]\n",
        " [  -30.20042119+0.j           -10.14687508-9.9491841j\n",
        "    -10.14687508+9.9491841j ]\n",
        " [  -30.26689912+0.j           -10.19411472-9.93203897j\n",
        "    -10.19411472+9.93203897j]\n",
        " [  -30.35594721+0.j           -10.25628208-9.90886997j\n",
        "    -10.25628208+9.90886997j]\n",
        " [  -30.47562432+0.j           -10.33788554-9.87739605j\n",
        "    -10.33788554+9.87739605j]\n",
        " [  -30.63716568+0.j           -10.44462614-9.83437037j\n",
        "    -10.44462614+9.83437037j]\n",
        " [  -30.85645369+0.j           -10.58356798-9.77512291j\n",
        "    -10.58356798+9.77512291j]\n",
        " [  -31.15631734+0.j           -10.76318923-9.69288158j\n",
        "    -10.76318923+9.69288158j]\n",
        " [  -31.57020724+0.j           -10.99313653-9.57779522j\n",
        "    -10.99313653+9.57779522j]\n",
        " [  -32.14816484+0.j           -11.28335076-9.41562245j\n",
        "    -11.28335076+9.41562245j]\n",
        " [  -32.96654344+0.j           -11.64200424-9.18624068j\n",
        "    -11.64200424+9.18624068j]\n",
        " [  -34.14343723+0.j           -12.07149525-8.86268321j\n",
        "    -12.07149525+8.86268321j]\n",
        " [  -35.86120312+0.j           -12.56210415-8.41258253j\n",
        "    -12.56210415+8.41258253j]\n",
        " [  -38.39314668+0.j           -13.08516905-7.80520757j\n",
        "    -13.08516905+7.80520757j]\n",
        " [  -42.12157921+0.j           -13.59269904-7.02537921j\n",
        "    -13.59269904+7.02537921j]\n",
        " [  -47.53107960+0.j           -14.03219982-6.08527177j\n",
        "    -14.03219982+6.08527177j]\n",
        " [  -55.18989902+0.j           -14.37115935-5.01504177j\n",
        "    -14.37115935+5.01504177j]\n",
        " [  -65.76790890+0.j           -14.60820890-3.82456923j\n",
        "    -14.60820890+3.82456923j]\n",
        " [  -80.11079481+0.j           -14.76271918-2.41718508j\n",
        "    -14.76271918+2.41718508j]\n",
        " [  -99.34257250+0.j           -15.96502851+0.j           -13.75283110+0.j        ]\n",
        " [ -124.97701427+0.j           -17.52168000+0.j           -12.31261914+0.j        ]\n",
        " [ -159.04605467+0.j           -18.28358336+0.j           -11.61991141+0.j        ]\n",
        " [ -204.26286998+0.j           -18.77023238+0.j           -11.17389457+0.j        ]\n",
        " [ -264.23751851+0.j           -19.10367150+0.j           -10.86411944+0.j        ]\n",
        " [ -343.76426236+0.j           -19.33991737+0.j           -10.64157455+0.j        ]\n",
        " [ -449.20403563+0.j           -19.51058799+0.j           -10.47880239+0.j        ]\n",
        " [ -588.99267376+0.j           -19.63543196+0.j           -10.35849718+0.j        ]\n",
        " [ -774.31547534+0.j           -19.72752945+0.j           -10.26900155+0.j        ]\n",
        " [-1020.00198019+0.j           -19.79587408+0.j           -10.20214573+0.j        ]]\n",
        "[  1.00000000e-03   1.32571137e-03   1.75751062e-03   2.32995181e-03\n",
        "   3.08884360e-03   4.09491506e-03   5.42867544e-03   7.19685673e-03\n",
        "   9.54095476e-03   1.26485522e-02   1.67683294e-02   2.22299648e-02\n",
        "   2.94705170e-02   3.90693994e-02   5.17947468e-02   6.86648845e-02\n",
        "   9.10298178e-02   1.20679264e-01   1.59985872e-01   2.12095089e-01\n",
        "   2.81176870e-01   3.72759372e-01   4.94171336e-01   6.55128557e-01\n",
        "   8.68511374e-01   1.15139540e+00   1.52641797e+00   2.02358965e+00\n",
        "   2.68269580e+00   3.55648031e+00   4.71486636e+00   6.25055193e+00\n",
        "   8.28642773e+00   1.09854114e+01   1.45634848e+01   1.93069773e+01\n",
        "   2.55954792e+01   3.39322177e+01   4.49843267e+01   5.96362332e+01\n",
        "   7.90604321e+01   1.04811313e+02   1.38949549e+02   1.84206997e+02\n",
        "   2.44205309e+02   3.23745754e+02   4.29193426e+02   5.68986603e+02\n",
        "   7.54312006e+02   1.00000000e+03]\n"
       ]
      }
     ],
     "prompt_number": 80
    },
    {
     "cell_type": "code",
     "collapsed": false,
     "input": [
      "k[0]\n"
     ],
     "language": "python",
     "metadata": {},
     "outputs": [
      {
       "output_type": "pyout",
       "prompt_number": 81,
       "text": [
        "[-30.00040001+0.j         -10.00029999-9.99989999j -10.00029999+9.99989999j]"
       ]
      }
     ],
     "prompt_number": 81
    },
    {
     "cell_type": "code",
     "collapsed": false,
     "input": [],
     "language": "python",
     "metadata": {},
     "outputs": []
    }
   ],
   "metadata": {}
  }
 ]
}