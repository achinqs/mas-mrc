{
 "metadata": {
  "name": "MRC_AlexMoriarty_20130603"
 },
 "nbformat": 3,
 "nbformat_minor": 0,
 "worksheets": [
  {
   "cells": [
    {
     "cell_type": "heading",
     "level": 1,
     "metadata": {},
     "source": [
      "Assigment 8."
     ]
    },
    {
     "cell_type": "markdown",
     "metadata": {},
     "source": [
      "<h2> Root Locus Python Module Extension </h2>\n",
      "Worked in group with Robin &amp; David\n",
      "\n",
      "Questions for the lab class portion:\n",
      "\n",
      "1. Is there a function to find the gain from the damping ratio? or is matlab or trial and error really the only way to do it? \n",
      "   Is there some formula or approximation method that matlab is using? \n",
      "\n",
      "2. Is the frequency really at a point on the RLocus plot really just the distance to the origin? Why is that?\n",
      "\n",
      "3. Does our code fail when there are two or fewer poles? We noticed sometimes the values were slightly off compared to MatLab in that case."
     ]
    },
    {
     "cell_type": "markdown",
     "metadata": {},
     "source": [
      "Test the homework8 root_locus_extras module\n",
      "\n",
      "NOTE: \n",
      "from homework8 import root_locus_extras as rlx\n",
      "requires homework8 (or a symlink) to be in the ipython notebook directory, or added to python path.\n",
      "\n",
      "This week requested a python module. Which can't be written in iPython Notebook.\n",
      "The submission this week is in the following format:\n",
      "<pre>\n",
      "hw8\n",
      "\u251c\u2500\u2500 MRC_Moriarty_Schriver_Ackerson_20130603.zip (the zip submitted: zip 9 -r --excludes ... hw8 )\n",
      "\u251c\u2500\u2500 MRC_AlexMoriarty_20130603.ipynb (this file)\n",
      "\u251c\u2500\u2500 MRC_AlexMoriarty_20130603.txt (time file)\n",
      "\u251c\u2500\u2500 doc ( pydoc generated)\n",
      "\u2502\u00a0\u00a0 \u251c\u2500\u2500 README.md\n",
      "\u2502\u00a0\u00a0 \u251c\u2500\u2500 homework8.root_locus_extras.html\n",
      "\u2502\u00a0\u00a0 \u2514\u2500\u2500 hw8_test.html\n",
      "\u251c\u2500\u2500 src ( this weeks code )\n",
      "\u2502\u00a0\u00a0 \u251c\u2500\u2500 homework8 ( our package )\n",
      "\u2502\u00a0\u00a0 \u2502\u00a0\u00a0 \u251c\u2500\u2500 __init__.py ( empty )\n",
      "\u2502\u00a0\u00a0 \u2502\u00a0\u00a0 \u2514\u2500\u2500 root_locus_extras.py ( our module )\n",
      "\u2502\u00a0\u00a0 \u2514\u2500\u2500 hw8_test.py ( a test )\n",
      "\u2514\u2500\u2500 test\n",
      "    \u2514\u2500\u2500 RLX_Test.ipynb ( another test using ipynb )\n",
      "</pre>"
     ]
    },
    {
     "cell_type": "code",
     "collapsed": false,
     "input": [
      "from control import matlab\n",
      "import sympy\n",
      "from homework8 import root_locus_extras as rlx\n",
      "\n",
      "\n",
      "def main():\n",
      "    print \"This is an example of homework8 root locus extras\"\n",
      "    s = sympy.Symbol(\"s\")\n",
      "    S = 1 / ((s+1)*(s+2)*(s+10))\n",
      "    \n",
      "    numerS = map(float, sympy.Poly(S.as_numer_denom()[0], s).all_coeffs()) \n",
      "    denomS = map(float, sympy.Poly(S.as_numer_denom()[1], s).all_coeffs())\n",
      "    tf = matlab.tf(numerS, denomS)\n",
      "    \n",
      "    gain = 164.5\n",
      "    damping_ratio = 0.174\n",
      "    \n",
      "    print \"provided test data :\"\n",
      "    print \"system =\", tf, \"\\ngain =\", gain,\"\\ndamping ratio =\",damping_ratio\n",
      "    \n",
      "    \n",
      "    print \"Gain \", rlx.gainFromDampingRatio(tf, damping_ratio)\n",
      "    print \"Poles: \", rlx.polesFromTransferFunction(tf)\n",
      "    print \"Overshoot: \", rlx.overshootFromDampingRatio(tf, damping_ratio)\n",
      "    print \"Damping Ratio: \", rlx.dampingRatioFromGain(tf, gain)\n",
      "    print \"Overshoot: \", rlx.overshootFromGain(tf, gain)\n",
      "    print \"Frequency: \", rlx.frequencyFromGain(tf, gain)\n",
      "    "
     ],
     "language": "python",
     "metadata": {},
     "outputs": [],
     "prompt_number": 5
    },
    {
     "cell_type": "code",
     "collapsed": false,
     "input": [
      "main()"
     ],
     "language": "python",
     "metadata": {},
     "outputs": [
      {
       "output_type": "stream",
       "stream": "stdout",
       "text": [
        "This is an example of homework8 root locus extras\n",
        "provided test data :\n",
        "system = \n",
        "           1\n",
        "------------------------\n",
        "s^3 + 13 s^2 + 32 s + 20\n",
        " \n",
        "gain = 164.5 \n",
        "damping ratio = 0.174\n",
        "Gain  "
       ]
      },
      {
       "output_type": "stream",
       "stream": "stdout",
       "text": [
        "164.5\n",
        "Poles:  [-10.  -2.  -1.]\n",
        "Overshoot:  57.4012053034\n",
        "Damping Ratio:  0.174043430998\n",
        "Overshoot:  "
       ]
      },
      {
       "output_type": "stream",
       "stream": "stdout",
       "text": [
        "57.3930041955\n",
        "Frequency:  3.98597604143\n"
       ]
      },
      {
       "output_type": "display_data",
       "png": "[encoded data removed]"
      }
     ],
     "prompt_number": 6
    },
    {
     "cell_type": "markdown",
     "metadata": {},
     "source": [
      "To view documentation use:\n",
      "?rlx.functionName"
     ]
    },
    {
     "cell_type": "code",
     "collapsed": false,
     "input": [
      "#?rlx.gainFromDampingRatio()\n",
      "#?rlx.polesFromTransferFunction()\n",
      "#?rlx.overshootFromDampingRatio()\n",
      "#?rlx.dampingRatioFromGain()\n",
      "#?rlx.overshootFromGain()\n",
      "#?rlx.frequencyFromGain()"
     ],
     "language": "python",
     "metadata": {},
     "outputs": [],
     "prompt_number": 3
    },
    {
     "cell_type": "code",
     "collapsed": false,
     "input": [
      "\n"
     ],
     "language": "python",
     "metadata": {},
     "outputs": [],
     "prompt_number": 8
    },
    {
     "cell_type": "code",
     "collapsed": false,
     "input": [],
     "language": "python",
     "metadata": {},
     "outputs": []
    }
   ],
   "metadata": {}
  }
 ]
}