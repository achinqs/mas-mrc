{
 "metadata": {
  "name": "Untitled3"
 },
 "nbformat": 3,
 "nbformat_minor": 0,
 "worksheets": [
  {
   "cells": [
    {
     "cell_type": "code",
     "collapsed": false,
     "input": [
      "import IPython.core.display\n",
      "import sys\n",
      "if not \"win\" in sys.platform and not \"linux\" in sys.platform:\n",
      "    %pylab\n",
      "else:\n",
      "    %pylab inline\n",
      "\n"
     ],
     "language": "python",
     "metadata": {},
     "outputs": []
    }
   ],
   "metadata": {}
  }
 ]
}