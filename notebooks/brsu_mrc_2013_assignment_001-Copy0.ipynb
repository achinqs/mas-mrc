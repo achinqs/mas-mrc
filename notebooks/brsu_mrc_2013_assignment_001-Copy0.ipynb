{
 "metadata": {
  "name": "brsu_mrc_2013_assignment_001-Copy0"
 },
 "nbformat": 3,
 "nbformat_minor": 0,
 "worksheets": [
  {
   "cells": [
    {
     "cell_type": "heading",
     "level": 1,
     "metadata": {},
     "source": [
      "Mathematics for Robotics and Control - Assignment 1: Ordinary Differential Equations"
     ]
    },
    {
     "cell_type": "markdown",
     "metadata": {},
     "source": [
      "For this assignment, you will be working with symbolic mathematics using the SymPy package for Python. In order to be able to work with the package efficiently, please familiarize yourself with SymPy by working through the tutorial:\n",
      "\n",
      "[SymPy Tutorial](http://docs.sympy.org/dev/tutorial/tutorial.en.html#tutorial)\n",
      "        \n",
      "Also, make sure you know how SymPy differes from other CAS like Maple or Mathematica, which you may be familiar with. This information is detailed in the following document:\n",
      "    \n",
      "[SymPy Gotchas](http://docs.sympy.org/dev/gotchas.html)\n",
      "        \n",
      "There is also an FAQ:\n",
      "    \n",
      "[SymPy FAQ](https://github.com/sympy/sympy/wiki/Faq)\n"
     ]
    },
    {
     "cell_type": "markdown",
     "metadata": {},
     "source": [
      "Also, be sure to read the documentation/help on SymPy's ODE module. Simply evaluate the code in the next cell to obtain said documentation. Note that using ? allows you to obtain help on any function, module etc. when used in IPython."
     ]
    },
    {
     "cell_type": "code",
     "collapsed": false,
     "input": [
      "import sympy\n",
      "?sympy.ode"
     ],
     "language": "python",
     "metadata": {},
     "outputs": [],
     "prompt_number": 48
    },
    {
     "cell_type": "markdown",
     "metadata": {},
     "source": [
      "Let us now start the assignment by examining some differential equations. First, have a look at the following quick example below to see how to enter code into the IPython notebook and how to work with SymPy."
     ]
    },
    {
     "cell_type": "code",
     "collapsed": false,
     "input": [
      "# Enable pretty printing\n",
      "sympy.init_printing(use_latex=True)"
     ],
     "language": "python",
     "metadata": {},
     "outputs": [],
     "prompt_number": 21
    },
    {
     "cell_type": "code",
     "collapsed": false,
     "input": [
      "# Declare a symbolic variable x. Note that the x on the left side of the assignment is the Python variable name,\n",
      "# while the \"x\" on the right hand side denotes the symbol name. It makes a lot of sense to keep those names the same.\n",
      "x = Symbol(\"x\")\n",
      "# y is a function of x, i.e. y(x)\n",
      "y = Function(\"y\")(x)\n",
      "# We use y_ to denote y'(x), i.e. the first derivative of y w.r.t. x\n",
      "y_ = Derivative(y, x)\n",
      "# ...an alternative way of writing this would be:\n",
      "y_ = y.diff(x)\n",
      "\n",
      "# Now let's examine a differential equation\n",
      "#\n",
      "#                x   d       \n",
      "# y(x)\u22c5sin(x) + \u212f  = \u2500\u2500(y(x))\n",
      "#                    dx      \n",
      "# \n",
      "eq1 = y * sin(x) + exp(x) - y_\n",
      "\n",
      "# We now determine a solution for this differential equation\n",
      "dsolve(eq1)"
     ],
     "language": "python",
     "metadata": {},
     "outputs": [
      {
       "latex": [
        "$$\\operatorname{y}{\\left (x \\right )} = \\left(C_{1} + \\int e^{x} e^{\\cos{\\left (x \\right )}}\\, dx\\right) e^{- \\cos{\\left (x \\right )}}$$"
       ],
       "output_type": "pyout",
       "png": "[encoded data removed]",
       "prompt_number": 45,
       "text": [
        "       \u239b     \u2320              \u239e         \n",
        "       \u239c     \u23ae  x  cos(x)   \u239f  -cos(x)\n",
        "y(x) = \u239cC\u2081 + \u23ae \u212f \u22c5\u212f       dx\u239f\u22c5\u212f       \n",
        "       \u239d     \u2321              \u23a0         "
       ]
      }
     ],
     "prompt_number": 45
    },
    {
     "cell_type": "markdown",
     "metadata": {},
     "source": [
      "For your first assignment, solve the following three ODEs *by hand* and verify your results via SymPy. Please include the steps of your solutions in the input cell below using TeX syntax. You can find an introduction to mathematical expressions in LaTeX [here](http://en.wikibooks.org/wiki/LaTeX/Mathematics). In order for the IPython notebook to evaluate your mathematical expressions, enclose them in $, i.e.\n",
      "\n",
      "    $  \\sum_{i=1}^{10} t_i $\n",
      "\n",
      "will display the following expression: $\\sum_{i=1}^{10} t_i$"
     ]
    },
    {
     "cell_type": "markdown",
     "metadata": {},
     "source": [
      "---"
     ]
    },
    {
     "cell_type": "heading",
     "level": 4,
     "metadata": {},
     "source": [
      "Assignment 1.1: Solve the following ordinary differential equations by hand and verify your results using SymPy."
     ]
    },
    {
     "cell_type": "markdown",
     "metadata": {},
     "source": [
      "Equation 1.1: $y^\\prime = 5 \\cdot y$"
     ]
    },
    {
     "cell_type": "markdown",
     "metadata": {},
     "source": [
      "*Insert your solution for Equation 1.1 here*"
     ]
    },
    {
     "cell_type": "code",
     "collapsed": false,
     "input": [
      "# Insert code to verify your solution for Equation 1.1 here and evaluate it"
     ],
     "language": "python",
     "metadata": {},
     "outputs": []
    },
    {
     "cell_type": "markdown",
     "metadata": {},
     "source": [
      "Equation 1.2: $\\frac{\\mathrm d y}{\\mathrm d x} = -2 \\cdot x \\cdot y$"
     ]
    },
    {
     "cell_type": "markdown",
     "metadata": {},
     "source": [
      "*Insert your solution for Equation 1.2 here*"
     ]
    },
    {
     "cell_type": "code",
     "collapsed": false,
     "input": [
      "# Insert code to verify your solution for Equation 1.2 here and evaluate it"
     ],
     "language": "python",
     "metadata": {},
     "outputs": []
    },
    {
     "cell_type": "markdown",
     "metadata": {},
     "source": [
      "Equation 1.3: $\\frac{\\mathrm d y}{\\mathrm d t} = y^2$"
     ]
    },
    {
     "cell_type": "code",
     "collapsed": false,
     "input": [
      "# Insert code to verify your solution for Equation 1.3 here and evaluate it"
     ],
     "language": "python",
     "metadata": {},
     "outputs": []
    },
    {
     "cell_type": "markdown",
     "metadata": {},
     "source": [
      "*Assignment 1.1 took me* <input type=\"text\" value=\"\" name=\"time_spent_ex11\" style=\"width: 3em; height: 0.85;\" /> *minutes*"
     ]
    },
    {
     "cell_type": "markdown",
     "metadata": {},
     "source": [
      "---"
     ]
    },
    {
     "cell_type": "heading",
     "level": 4,
     "metadata": {},
     "source": [
      "Assignment 1.2: Determine if the following equations are linear and insert your solutions below."
     ]
    },
    {
     "cell_type": "markdown",
     "metadata": {},
     "source": [
      " *Note: simply stating that an equation is linear or not is not sufficient, please provide arguments/proof as to why this is the case.*"
     ]
    },
    {
     "cell_type": "markdown",
     "metadata": {},
     "source": [
      "1. $y^\\prime = sin(x) \\cdot y + e^x$\n",
      "2. $y^\\prime + x \\cdot y = e^x \\cdot y$\n",
      "3. $y^\\prime + \\frac{x}{y} = 0$\n",
      "4. $x \\cdot y^\\prime + y = \\sqrt{y}$"
     ]
    },
    {
     "cell_type": "markdown",
     "metadata": {},
     "source": [
      "*Assignment 1.2 took me* <input type=\"text\" value=\"\" name=\"time_spent_ex12\" style=\"width: 3em; height: 0.85;\" /> *minutes*"
     ]
    },
    {
     "cell_type": "markdown",
     "metadata": {},
     "source": [
      "---"
     ]
    },
    {
     "cell_type": "heading",
     "level": 4,
     "metadata": {},
     "source": [
      "Assignment 1.3: Solve the following ordinary differential equations and specify an integrating factor. Insert your solutions below."
     ]
    },
    {
     "cell_type": "markdown",
     "metadata": {},
     "source": [
      "[Wikipedia: Integrating Factor](http://en.wikipedia.org/wiki/Integrating_factor)\n",
      "\n",
      "[Tutorial on how to use the integrating factor method to solve ODEs](http://www.cse.salford.ac.uk/profiles/gsmcdonald/H-Tutorials/ordinary-differential-equations-integrating-factor.pdf) (PDF)"
     ]
    },
    {
     "cell_type": "markdown",
     "metadata": {},
     "source": [
      "1. $y^\\prime = -3 \\cdot y = 6$\n",
      "2. $y^\\prime + \\frac{4}{x} \\cdot y = x^4$"
     ]
    },
    {
     "cell_type": "markdown",
     "metadata": {},
     "source": [
      "*Assignment 1.3 took me* <input type=\"text\" value=\"\" name=\"time_spent_ex13\" style=\"width: 3em; height: 0.85;\" /> *minutes*"
     ]
    },
    {
     "cell_type": "markdown",
     "metadata": {},
     "source": [
      "---"
     ]
    },
    {
     "cell_type": "heading",
     "level": 4,
     "metadata": {},
     "source": [
      "Assignment 1.4: Solve the following differental equations"
     ]
    },
    {
     "cell_type": "markdown",
     "metadata": {},
     "source": [
      "Remember that a second order differential equation $y^{\\prime \\prime} + a_1 \\cdot y^\\prime + a_0 \\cdot y = 0$ with constants $a_{0, 1}$ corresponds to the characteristic equation $\\lambda^2 + a_1 \\cdot \\lambda + a_0 = 0$, which can be factored into $(\\lambda - \\lambda_1) \\cdot (\\lambda - \\lambda_2) = 0$. This is useful since the general solution of $y^{\\prime \\prime} + a_1 \\cdot y^\\prime + a_0 \\cdot y = 0$ can be obtained directly by determining the roots $\\lambda_1$ and $\\lambda_2$ if the coefficients are constant and the differential equation is linear. Determine the roots of the following differential equations and specify their solutions. See the Wikipedia article on the [characteristic equation](http://en.wikipedia.org/wiki/Characteristic_equation_(calculus)) for the three distinctive cases that determine how to obtain the solution based on what the roots are.\n",
      "\n",
      "Insert your solutions below and include code to proof your solutions are correct. Hint: use the sympy.ode.checkodesol function to validate your results."
     ]
    },
    {
     "cell_type": "markdown",
     "metadata": {},
     "source": [
      "1. $y^{\\prime \\prime} - y^\\prime - 2 \\cdot y = 0$\n",
      "2. $y^{\\prime \\prime} - 3 \\cdot y^\\prime + 4 \\cdot y = 0$\n",
      "3. $y^{\\prime \\prime} + 4 \\cdot y = 0$"
     ]
    },
    {
     "cell_type": "code",
     "collapsed": false,
     "input": [
      "# Include code here to show that your solutions are correct."
     ],
     "language": "python",
     "metadata": {},
     "outputs": [],
     "prompt_number": 47
    },
    {
     "cell_type": "markdown",
     "metadata": {},
     "source": [
      "*Assignment 1.4 took me* <input type=\"text\" value=\"\" name=\"time_spent_ex14\" style=\"width: 3em; height: 0.85;\" /> *minutes*"
     ]
    }
   ],
   "metadata": {}
  }
 ]
}