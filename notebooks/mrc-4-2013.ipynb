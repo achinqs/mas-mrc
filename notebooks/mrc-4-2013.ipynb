{
 "metadata": {
  "name": ""
 },
 "nbformat": 3,
 "nbformat_minor": 0,
 "worksheets": [
  {
   "cells": [
    {
     "cell_type": "code",
     "collapsed": false,
     "input": [
      "d2_xy = (d_xyz**2) - (5.3**2)\n",
      "\n",
      "print d_xyz\n",
      "print d2_xy\n",
      "a, b, c, d = d2_xy\n",
      "x= (a - b +6**2)/12\n",
      "y= np.sqrt(a-x**2)\n",
      "h=4.5\n",
      "w=6.0\n",
      "\n",
      "print x**2 + y**2\n",
      "print (b-c+h**2)/(2*h), \"= y from b c\"\n",
      "print (a-d+h**2)/(2*h), \"= y from a d\"\n",
      "print (a-b+w**2)/(2*w)\n",
      "\n",
      "print 3.12**2 + 0.14**2\n",
      "\n",
      "print x,y "
     ],
     "language": "python",
     "metadata": {},
     "outputs": []
    }
   ],
   "metadata": {}
  }
 ]
}