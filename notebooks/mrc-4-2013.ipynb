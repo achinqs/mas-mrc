{
 "metadata": {
  "name": "mrc-4-2013"
 },
 "nbformat": 3,
 "nbformat_minor": 0,
 "worksheets": [
  {
   "cells": [
    {
     "cell_type": "code",
     "collapsed": false,
     "input": [
      "'''\n",
      " #### Subtract EQ1 from other 3 EQn. \n",
      "    # \n",
      "    # EQ2: -12x + 0y + 0z = r2^2 - r1^2 - 6^2\n",
      "    # EQ3: -12x - 9y + 0z = r3^2 - r1^2 - 6^2 - 4.5^2\n",
      "    # EQ4:   0x - 9y + 0z = r4^2 - r1^1 - 4.5^2\n",
      "    # \n",
      "    # EQ5: z = -5.3\n",
      "    # \n",
      "    ####\n",
      "    #\n",
      "    # -12  0  0  \n",
      "    # -12 -9  0 \n",
      "    #   0 -9  0 \n",
      "    #   0  0  1 \n",
      "    \n",
      "    # -12  0  0  \n",
      "    # -12 -9  0 \n",
      "    #   0 -9  0 \n",
      "    #   0  0  1 \n",
      "    \n",
      "    ###\n",
      "'''\n",
      "A = array([[-12,0,0],[-12,-9,0],[0,-9,1]])\n",
      "\n",
      "print A.shape\n",
      "\n",
      "distances = np.load('distances.npy')\n",
      "\n",
      "d = distances[0,:]\n",
      "\n",
      "aa, bb, cc, dd = d**2\n",
      "w = 6.0\n",
      "l = -4.5\n",
      "\n",
      "b = array([[bb-aa-6**2,],[cc-aa-6**2-4.5**2,],[dd-aa-4.5**2-5.3,]])\n",
      "print b.shape\n",
      "# r2^2 - r1^2 - 6^2\n",
      "# r3^2 - r1^2 - 6^2 - 4.5^2\n",
      "# r4^2 - r1^1 - 4.5^2\n",
      "\n",
      "\n",
      "U,s,V = linalg.svd(A) # SVD decomposition of A\n",
      "print \"Find c\"\n",
      "c = dot(U.T,b) # c = U^t*b\n",
      "print \"Find w\"\n",
      "w = linalg.solve(np.diag(s),c) # w = V^t*c\n",
      "print \"Find xSVD\"\n",
      "xSVD = dot(V.T,w) # x = V*w\n",
      "\n",
      "print A\n",
      "\n",
      "x = linalg.solve(A,b) # solve Ax=b using linalg.solve\n",
      "\n",
      "print A\n",
      "\n",
      "print x\n",
      "\n",
      "print xSVD.T"
     ],
     "language": "python",
     "metadata": {},
     "outputs": [
      {
       "output_type": "stream",
       "stream": "stdout",
       "text": [
        "(3, 3)\n",
        "(3, 1)\n",
        "Find c\n",
        "Find w\n",
        "Find xSVD\n",
        "[[-12   0   0]\n",
        " [-12  -9   0]\n",
        " [  0  -9   1]]\n",
        "[[-12   0   0]\n",
        " [-12  -9   0]\n",
        " [  0  -9   1]]\n",
        "[[ 0.14]\n",
        " [ 2.77]\n",
        " [-5.3 ]]\n",
        "[[ 0.14  2.77 -5.3 ]]\n"
       ]
      }
     ],
     "prompt_number": 68
    },
    {
     "cell_type": "code",
     "collapsed": false,
     "input": [],
     "language": "python",
     "metadata": {},
     "outputs": [],
     "prompt_number": 23
    },
    {
     "cell_type": "code",
     "collapsed": false,
     "input": [],
     "language": "python",
     "metadata": {},
     "outputs": []
    }
   ],
   "metadata": {}
  }
 ]
}