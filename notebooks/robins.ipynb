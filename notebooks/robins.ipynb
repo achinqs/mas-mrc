{
 "metadata": {
  "name": "robins"
 },
 "nbformat": 3,
 "nbformat_minor": 0,
 "worksheets": [
  {
   "cells": [
    {
     "cell_type": "code",
     "collapsed": false,
     "input": [
      "from control import matlab\n",
      "import matplotlib.pyplot as scaryPlotter\n",
      "from control.pzmap import pzmap \n",
      "#import sympy as sp Sympy is not used.\n",
      "import numpy as np\n",
      "from math import exp,sqrt\n",
      "\n",
      "def valuesFromDampingRatio(transferFunction, dampingRatio):\n",
      "    minGainSample = 0\n",
      "    spacing = 1000\n",
      "    closerToMGS = False\n",
      "    gainFound = False\n",
      "    slopeOfDampingRatioLine = abs(tan(arcsin(dampingRatio)))\n",
      "    \n",
      "    while not gainFound :\n",
      "        data = matlab.rlocus(tf, array([minGainSample,minGainSample + (spacing),minGainSample + (2*spacing),\n",
      "                                minGainSample + (3*spacing),minGainSample + (4*spacing),minGainSample + (5*spacing),\n",
      "                                minGainSample + (6*spacing),minGainSample + (7*spacing),minGainSample + (8*spacing),\n",
      "                                minGainSample + (9*spacing),minGainSample + (10*spacing)]))\n",
      "        for j in range(0, len(data[0][0])):\n",
      "            for i in range(1, len(data[0])) :\n",
      "                data_point = data[0][i][j]\n",
      "                if data_point.imag > 0 :\n",
      "                    if (data[0][i-1][j].imag > 0 and abs(-1*data_point.real / data_point.imag) <= slopeOfDampingRatioLine \n",
      "                            and abs(-1*data[0][i-1][j].real / data[0][i-1][j].imag) >= slopeOfDampingRatioLine) :\n",
      "                        minGainSample = data[1][i-1]\n",
      "                        if(data[0][i-1][j].imag > 0 \n",
      "                                and abs(abs(-1*data_point.real / data_point.imag) - abs(slopeOfDampingRatioLine)) \n",
      "                                >= abs(abs(-1*data[0][i-1][j].real / data[0][i-1][j].imag) - abs(slopeOfDampingRatioLine))) :\n",
      "                            closerToMGS = True\n",
      "                        else :\n",
      "                            closerToMGS = False\n",
      "        if spacing == 0.1:\n",
      "            gainFound = True\n",
      "        else :\n",
      "            spacing = spacing / 10\n",
      "    if closerToMGS :\n",
      "        print \"Gain : \", minGainSample\n",
      "    else :\n",
      "        print \"Gain : \", minGainSample + 0.1\n",
      "\n",
      "def polesFromTransferFunction(transferFunction) :\n",
      "    poles, zeros = pzmap(tf, True)\n",
      "    print \"Poles : \", poles\n",
      "    \n",
      "def overshootFromDampingRatio(transferFunction, dampingRatio) :\n",
      "    exponent = -1*dampingRatio*( pi/sqrt(1 - dampingRatio**2))\n",
      "    overshoot = 100*exp(exponent)\n",
      "    print \"Overshoot : \", overshoot\n",
      "    \n",
      "def dampingRatioFromGain(transferFunction, gain) :\n",
      "    data = matlab.rlocus(tf, array([gain]))\n",
      "    for j in range(0, len(data[0][0])):\n",
      "        for i in range(0, len(data[0])) :\n",
      "            data_point = data[0][i][j]\n",
      "            if data_point.imag > 0 :\n",
      "                print \"Damping Ratio : \", sin(atan(abs(-1*data_point.real / data_point.imag)))\n",
      "                    \n",
      "def overshootFromGain(transferFunction, gain) :\n",
      "    data = matlab.rlocus(tf, array([gain]))\n",
      "    dampingRatio = 0\n",
      "    for j in range(0, len(data[0][0])):\n",
      "        for i in range(0, len(data[0])) :\n",
      "            data_point = data[0][i][j]\n",
      "            if data_point.imag > 0 :\n",
      "                dampingRatio = sin(atan(abs(-1*data_point.real / data_point.imag)))\n",
      "    exponent = -1*dampingRatio*( pi/sqrt(1 - dampingRatio**2))\n",
      "    overshoot = 100*exp(exponent)\n",
      "    print \"Overshoot : \", overshoot\n",
      "    \n",
      "\n",
      "s = Symbol(\"s\")\n",
      "S = 1 / ((s+1)*(s+2)*(s+10))\n",
      "\n",
      "numerS = map(float, Poly(S.as_numer_denom()[0], s).all_coeffs()) \n",
      "denomS = map(float, Poly(S.as_numer_denom()[1], s).all_coeffs())\n",
      "\n",
      "tf = matlab.tf(numerS, denomS)\n",
      "valuesFromDampingRatio(tf, 0.174)\n",
      "polesFromTransferFunction(tf)\n",
      "overshootFromDampingRatio(tf, 0.174)\n",
      "dampingRatioFromGain(tf, 164.5)\n",
      "overshootFromGain(tf, 164.5)\n"
     ],
     "language": "python",
     "metadata": {},
     "outputs": [
      {
       "output_type": "stream",
       "stream": "stdout",
       "text": [
        "Gain :  164.5\n",
        "Poles :  [-10.  -2.  -1.]\n",
        "Overshoot :  57.4012053034\n",
        "Damping Ratio :  0.174043430997869\n",
        "Overshoot :  57.3930041955\n"
       ]
      },
      {
       "output_type": "display_data",
       "png": "[encoded data removed]"
      }
     ],
     "prompt_number": 4
    },
    {
     "cell_type": "code",
     "collapsed": false,
     "input": [],
     "language": "python",
     "metadata": {},
     "outputs": [],
     "prompt_number": 1
    },
    {
     "cell_type": "code",
     "collapsed": false,
     "input": [],
     "language": "python",
     "metadata": {},
     "outputs": [],
     "prompt_number": 1
    },
    {
     "cell_type": "code",
     "collapsed": false,
     "input": [],
     "language": "python",
     "metadata": {},
     "outputs": []
    }
   ],
   "metadata": {}
  }
 ]
}