{
 "metadata": {
  "name": ""
 },
 "nbformat": 3,
 "nbformat_minor": 0,
 "worksheets": [
  {
   "cells": [
    {
     "cell_type": "markdown",
     "metadata": {},
     "source": [
      "<style type=\"text/css\">\n",
      ".time_spent {\n",
      "    width: 3em;\n",
      "    border-style: none;\n",
      "    background-color: silver;\n",
      "    font-weight: bold;\n",
      "    padding-left: 5px;\n",
      "}\n",
      "</style>"
     ]
    },
    {
     "cell_type": "heading",
     "level": 1,
     "metadata": {},
     "source": [
      "Mathematics for Robotics and Control - Assignment 7: Ordinary Differential Equations"
     ]
    },
    {
     "cell_type": "markdown",
     "metadata": {},
     "source": [
      "For this assignment, you will be working with symbolic mathematics using the SymPy package for Python. In order to be able to work with the package efficiently, please familiarize yourself with SymPy by working through the tutorial:\n",
      "\n",
      "[SymPy Tutorial](http://docs.sympy.org/dev/tutorial/tutorial.en.html#tutorial)\n",
      "        \n",
      "Also, make sure you know how SymPy differes from other CAS like Maple or Mathematica, which you may be familiar with. This information is detailed in the following document:\n",
      "    \n",
      "[SymPy Gotchas](http://docs.sympy.org/dev/gotchas.html)\n",
      "        \n",
      "There is also an FAQ:\n",
      "    \n",
      "[SymPy FAQ](https://github.com/sympy/sympy/wiki/Faq)\n"
     ]
    },
    {
     "cell_type": "markdown",
     "metadata": {},
     "source": [
      "Also, be sure to read the documentation/help on SymPy's ODE module. Simply evaluate the code in the next cell to obtain said documentation. Note that using ? allows you to obtain help on any function, module etc. when used in IPython."
     ]
    },
    {
     "cell_type": "code",
     "collapsed": false,
     "input": [
      "import sympy\n",
      "?sympy.ode"
     ],
     "language": "python",
     "metadata": {},
     "outputs": [],
     "prompt_number": 1
    },
    {
     "cell_type": "markdown",
     "metadata": {},
     "source": [
      "Let us now start the assignment by examining some differential equations. First, have a look at the following quick example below to see how to enter code into the IPython notebook and how to work with SymPy."
     ]
    },
    {
     "cell_type": "code",
     "collapsed": false,
     "input": [
      "# Enable pretty printing\n",
      "sympy.init_printing(use_latex=True)"
     ],
     "language": "python",
     "metadata": {},
     "outputs": [],
     "prompt_number": 2
    },
    {
     "cell_type": "code",
     "collapsed": false,
     "input": [
      "# Declare a symbolic variable x. Note that the x on the left side of the assignment is the Python variable name,\n",
      "# while the \"x\" on the right hand side denotes the symbol name. It makes a lot of sense to keep those names the same.\n",
      "x = Symbol(\"x\")\n",
      "# y is a function of x, i.e. y(x)\n",
      "y = Function(\"y\")(x)\n",
      "# We use y_ to denote y'(x), i.e. the first derivative of y w.r.t. x\n",
      "y_ = Derivative(y, x)\n",
      "# ...an alternative way of writing this would be:\n",
      "y_ = y.diff(x)\n",
      "\n",
      "# Now let's examine a differential equation\n",
      "#\n",
      "#                x   d       \n",
      "# y(x)\u22c5sin(x) + \u212f  = \u2500\u2500(y(x))\n",
      "#                    dx      \n",
      "# \n",
      "eq1 = y * sin(x) + exp(x) - y_\n",
      "\n",
      "# We now determine a solution for this differential equation\n",
      "dsolve(eq1)"
     ],
     "language": "python",
     "metadata": {},
     "outputs": [
      {
       "latex": [
        "$$\\int \\left(y{\\left (x \\right )} \\sin{\\left (x \\right )} + e^{x}\\right) e^{\\cos{\\left (x \\right )}}\\, dx = C_{1}$$"
       ],
       "metadata": {},
       "output_type": "pyout",
       "prompt_number": 5,
       "text": [
        "\u2320                                   \n",
        "\u23ae \u239b               x\u239e  cos(x)        \n",
        "\u23ae \u239dy(x)\u22c5sin(x) + \u212f \u23a0\u22c5\u212f       dx = C\u2081\n",
        "\u2321                                   "
       ]
      }
     ],
     "prompt_number": 5
    },
    {
     "cell_type": "markdown",
     "metadata": {},
     "source": [
      "For your first assignment, solve the following three ODEs *by hand* and verify your results via SymPy. Please include the steps of your solutions in the input cell below using TeX syntax. You can find an introduction to mathematical expressions in LaTeX [here](http://en.wikibooks.org/wiki/LaTeX/Mathematics). In order for the IPython notebook to evaluate your mathematical expressions, enclose them in \\$, i.e.\n",
      "\n",
      "    \"\"\"$   \\ sum_{i=1}^{10} t_i $\"\"\"\n",
      "\n",
      "will display the following expression: $\\sum_{i=1}^{10} t_i$"
     ]
    },
    {
     "cell_type": "markdown",
     "metadata": {},
     "source": [
      "---"
     ]
    },
    {
     "cell_type": "heading",
     "level": 4,
     "metadata": {},
     "source": [
      "Assignment 7.1: Solve the following ordinary differential equations by hand and verify your results using SymPy."
     ]
    },
    {
     "cell_type": "code",
     "collapsed": false,
     "input": [
      "from sympy import Function, Derivative, classify_ode, pprint, latex\n",
      "from sympy.abc import x\n",
      "\n",
      "y = Function(\"y\")(x)\n",
      "y_ = Derivative(y, x)"
     ],
     "language": "python",
     "metadata": {},
     "outputs": [],
     "prompt_number": 24
    },
    {
     "cell_type": "markdown",
     "metadata": {},
     "source": [
      "Equation 1.1: $y^\\prime = 5 \\cdot y$\n",
      "\n",
      "\\begin{aligned}\n",
      "\n",
      "\\end{aligned}\n"
     ]
    },
    {
     "cell_type": "markdown",
     "metadata": {},
     "source": [
      "*Insert your solution for Equation 1.1 here*\n",
      "\n"
     ]
    },
    {
     "cell_type": "code",
     "collapsed": false,
     "input": [
      "# Insert code to verify your solution for Equation 1.1 here and evaluate it\n",
      "eq_11 = y_ - 5*y\n",
      "dsolve(eq_11)"
     ],
     "language": "python",
     "metadata": {},
     "outputs": [
      {
       "latex": [
        "$$y{\\left (x \\right )} = C_{1} e^{5 x}$$"
       ],
       "metadata": {},
       "output_type": "pyout",
       "prompt_number": 8,
       "text": [
        "           5\u22c5x\n",
        "y(x) = C\u2081\u22c5\u212f   "
       ]
      }
     ],
     "prompt_number": 8
    },
    {
     "cell_type": "markdown",
     "metadata": {},
     "source": [
      "Equation 1.2: $\\frac{\\mathrm d y}{\\mathrm d x} = -2 \\cdot x \\cdot y$"
     ]
    },
    {
     "cell_type": "markdown",
     "metadata": {},
     "source": [
      "*Insert your solution for Equation 1.2 here*"
     ]
    },
    {
     "cell_type": "code",
     "collapsed": false,
     "input": [
      "# Insert code to verify your solution for Equation 1.2 here and evaluate it\n",
      "eq_12 = y_ + 2*x*y\n",
      "dsolve(eq_12)"
     ],
     "language": "python",
     "metadata": {},
     "outputs": [
      {
       "latex": [
        "$$y{\\left (x \\right )} = C_{1} e^{- x^{2}}$$"
       ],
       "metadata": {},
       "output_type": "pyout",
       "prompt_number": 9,
       "text": [
        "             2\n",
        "           -x \n",
        "y(x) = C\u2081\u22c5\u212f   "
       ]
      }
     ],
     "prompt_number": 9
    },
    {
     "cell_type": "markdown",
     "metadata": {},
     "source": [
      "Equation 1.3: $\\frac{\\mathrm d y}{\\mathrm d t} = y^2$"
     ]
    },
    {
     "cell_type": "code",
     "collapsed": false,
     "input": [
      "# Insert code to verify your solution for Equation 1.3 here and evaluate it\n",
      "eq_13 = y_ - y**2\n",
      "dsolve(eq_13)"
     ],
     "language": "python",
     "metadata": {},
     "outputs": [
      {
       "latex": [
        "$$y{\\left (x \\right )} = - \\frac{1}{C_{1} + x}$$"
       ],
       "metadata": {},
       "output_type": "pyout",
       "prompt_number": 10,
       "text": [
        "        -1   \n",
        "y(x) = \u2500\u2500\u2500\u2500\u2500\u2500\n",
        "       C\u2081 + x"
       ]
      }
     ],
     "prompt_number": 10
    },
    {
     "cell_type": "markdown",
     "metadata": {},
     "source": [
      "*Assignment 7.1 took me* <input class=\"time_spent\" name=\"ex71_time_spent\" /> *minutes.*"
     ]
    },
    {
     "cell_type": "markdown",
     "metadata": {},
     "source": [
      "---"
     ]
    },
    {
     "cell_type": "heading",
     "level": 4,
     "metadata": {},
     "source": [
      "Assignment 7.2: Determine if the following equations are linear and insert your solutions below."
     ]
    },
    {
     "cell_type": "markdown",
     "metadata": {},
     "source": [
      " *Note: simply stating that an equation is linear or not is not sufficient, please provide arguments/proof as to why this is the case.*"
     ]
    },
    {
     "cell_type": "markdown",
     "metadata": {},
     "source": [
      "1. $y^\\prime = sin(x) \\cdot y + e^x$\n",
      "2. $y^\\prime + x \\cdot y = e^x \\cdot y$\n",
      "3. $y^\\prime + \\frac{x}{y} = 0$\n",
      "4. $x \\cdot y^\\prime + y = \\sqrt{y}$"
     ]
    },
    {
     "cell_type": "code",
     "collapsed": false,
     "input": [
      "eq_21 = y_ - sin(x)*y - exp(x)\n",
      "eq_22 = y_ + x*y - exp(x)*y\n",
      "eq_23 = y_ + x/y\n",
      "eq_24 = x*y_ - sqrt(y)\n",
      "\n",
      "def seven_two(equation):\n",
      "    print(\"The solution to the differential equation:\")\n",
      "    pprint(equation)\n",
      "    print(\"is\")\n",
      "    ode_sol = dsolve(equation)\n",
      "    pprint(ode_sol)\n",
      "    print(\"and it can be classified as:\")\n",
      "    classes = classify_ode(equation)\n",
      "    for class_ in classes:\n",
      "        print class_\n",
      "        "
     ],
     "language": "python",
     "metadata": {},
     "outputs": [],
     "prompt_number": 39
    },
    {
     "cell_type": "code",
     "collapsed": false,
     "input": [
      "seven_two(eq_21)"
     ],
     "language": "python",
     "metadata": {},
     "outputs": [
      {
       "output_type": "stream",
       "stream": "stdout",
       "text": [
        "The solution to the differential equation:\n",
        "                x   d       \n",
        "-y(x)\u22c5sin(x) - \u212f  + \u2500\u2500(y(x))\n",
        "                    dx      \n",
        "is\n",
        "\u2320                                    \n",
        "\u23ae \u239b                x\u239e  cos(x)        \n",
        "\u23ae \u239d-y(x)\u22c5sin(x) - \u212f \u23a0\u22c5\u212f       dx = C\u2081\n",
        "\u2321                                    "
       ]
      },
      {
       "output_type": "stream",
       "stream": "stdout",
       "text": [
        "\n",
        "and it can be classified as:\n",
        "1st_exact"
       ]
      },
      {
       "output_type": "stream",
       "stream": "stdout",
       "text": [
        "\n",
        "1st_linear\n",
        "Bernoulli\n",
        "almost_linear\n",
        "1st_exact_Integral\n",
        "1st_linear_Integral\n",
        "Bernoulli_Integral\n",
        "almost_linear_Integral\n"
       ]
      }
     ],
     "prompt_number": 40
    },
    {
     "cell_type": "code",
     "collapsed": false,
     "input": [
      "seven_two(eq_22)"
     ],
     "language": "python",
     "metadata": {},
     "outputs": [
      {
       "output_type": "stream",
       "stream": "stdout",
       "text": [
        "The solution to the differential equation:\n",
        "               x   d       \n",
        "x\u22c5y(x) - y(x)\u22c5\u212f  + \u2500\u2500(y(x))\n",
        "                   dx      \n",
        "is\n",
        "              2     \n",
        "             x     x\n",
        "           - \u2500\u2500 + \u212f \n",
        "             2      \n",
        "y(x) = C\u2081\u22c5\u212f         "
       ]
      },
      {
       "output_type": "stream",
       "stream": "stdout",
       "text": [
        "\n",
        "and it can be classified as:\n",
        "separable"
       ]
      },
      {
       "output_type": "stream",
       "stream": "stdout",
       "text": [
        "\n",
        "1st_exact\n",
        "1st_linear\n",
        "almost_linear\n",
        "separable_Integral\n",
        "1st_exact_Integral\n",
        "1st_linear_Integral\n",
        "almost_linear_Integral\n"
       ]
      }
     ],
     "prompt_number": 41
    },
    {
     "cell_type": "code",
     "collapsed": false,
     "input": [
      "seven_two(eq_23)"
     ],
     "language": "python",
     "metadata": {},
     "outputs": [
      {
       "output_type": "stream",
       "stream": "stdout",
       "text": [
        "The solution to the differential equation:\n",
        " x     d       \n",
        "\u2500\u2500\u2500\u2500 + \u2500\u2500(y(x))\n",
        "y(x)   dx      \n",
        "is\n",
        "\u23a1           _________            _________\u23a4\n",
        "\u23a2          \u2571       2            \u2571       2 \u23a5\n",
        "\u23a3y(x) = -\u2572\u2571  C\u2081 - x  , y(x) = \u2572\u2571  C\u2081 - x  \u23a6"
       ]
      },
      {
       "output_type": "stream",
       "stream": "stdout",
       "text": [
        "\n",
        "and it can be classified as:\n",
        "separable"
       ]
      },
      {
       "output_type": "stream",
       "stream": "stdout",
       "text": [
        "\n",
        "1st_exact\n",
        "Bernoulli\n",
        "1st_homogeneous_coeff_best\n",
        "1st_homogeneous_coeff_subs_indep_div_dep\n",
        "1st_homogeneous_coeff_subs_dep_div_indep\n",
        "separable_reduced\n",
        "separable_Integral\n",
        "1st_exact_Integral\n",
        "Bernoulli_Integral\n",
        "1st_homogeneous_coeff_subs_indep_div_dep_Integral\n",
        "1st_homogeneous_coeff_subs_dep_div_indep_Integral\n",
        "separable_reduced_Integral\n"
       ]
      }
     ],
     "prompt_number": 42
    },
    {
     "cell_type": "code",
     "collapsed": false,
     "input": [
      "seven_two(eq_24)"
     ],
     "language": "python",
     "metadata": {},
     "outputs": [
      {
       "output_type": "stream",
       "stream": "stdout",
       "text": [
        "The solution to the differential equation:\n",
        "  d            ______\n",
        "x\u22c5\u2500\u2500(y(x)) - \u2572\u2571 y(x) \n",
        "  dx                 \n",
        "is\n",
        "                           2   \n",
        "                        log (x)\n",
        "y(x) = C\u2081 + C\u2082\u22c5log(x) + \u2500\u2500\u2500\u2500\u2500\u2500\u2500\n",
        "                           4   "
       ]
      },
      {
       "output_type": "stream",
       "stream": "stdout",
       "text": [
        "\n",
        "and it can be classified as:\n",
        "separable"
       ]
      },
      {
       "output_type": "stream",
       "stream": "stdout",
       "text": [
        "\n",
        "1st_exact\n",
        "Bernoulli\n",
        "separable_reduced\n",
        "separable_Integral\n",
        "1st_exact_Integral\n",
        "Bernoulli_Integral\n",
        "separable_reduced_Integral\n"
       ]
      }
     ],
     "prompt_number": 43
    },
    {
     "cell_type": "markdown",
     "metadata": {},
     "source": [
      "Eq1 and Eq2 are linear\n",
      "Eq3 and Eq4 are not linear\n",
      "\n",
      "My arguments/proof this semester is that I found a function to classify odes, and I used it above.\n",
      "\n",
      "\n",
      "Further proof can be seen in last semesters solution which included photos all math done by hand.\n",
      "\n",
      "Here is my solution from last semester.\n",
      "\n",
      "\n",
      "1. Linear </br>\n",
      "$y^\\prime - y \\cdot sin(x) = e^x $ </br>\n",
      "Terms can be arranged so that each has only y OR a derivative of y </br>\n",
      "\n",
      "2. Linear </br>\n",
      "$y^\\prime + y \\cdot (x - e^x) = 0$</br>\n",
      "Terms can be arranged so that each has only y OR a derivative of y </br>\n",
      "\n",
      "3. Non-Linear </br>\n",
      "$y^\\prime \\cdot y + x = 0$</br>\n",
      "Term contains $y$ and $y^\\prime$</br> \n",
      "\n",
      "4. Non-Linear </br>\n",
      "$y^\\prime \\cdot x + y - \\sqrt{y} = 0$ </br>\n",
      "$y^\\prime \\cdot x + y(1 -\\frac{1}{ \\sqrt{y}}) = 0$ </br>\n",
      "Terms can't be arranged as linear combination of derivatives of y or y itself.\n",
      "\n"
     ]
    },
    {
     "cell_type": "markdown",
     "metadata": {},
     "source": [
      "*Assignment 7.2 took me* <input class=\"time_spent\" name=\"ex72_time_spent\" /> *minutes.*"
     ]
    },
    {
     "cell_type": "markdown",
     "metadata": {},
     "source": [
      "---"
     ]
    },
    {
     "cell_type": "heading",
     "level": 4,
     "metadata": {},
     "source": [
      "Assignment 7.3: Solve the following ordinary differential equations and specify an integrating factor. Insert your solutions below."
     ]
    },
    {
     "cell_type": "markdown",
     "metadata": {},
     "source": [
      "[Wikipedia: Integrating Factor](http://en.wikipedia.org/wiki/Integrating_factor)\n",
      "\n",
      "[Tutorial on how to use the integrating factor method to solve ODEs](http://www.cse.salford.ac.uk/profiles/gsmcdonald/H-Tutorials/ordinary-differential-equations-integrating-factor.pdf) (PDF)"
     ]
    },
    {
     "cell_type": "markdown",
     "metadata": {},
     "source": [
      "1. $y^\\prime -3 \\cdot y = 6$\n",
      "2. $y^\\prime + \\frac{4}{x} \\cdot y = x^4$\n",
      "\n",
      "typo fixed"
     ]
    },
    {
     "cell_type": "code",
     "collapsed": false,
     "input": [
      "from sympy import Function, Derivative, Eq, symbols, checkodesol, Integral, integrate\n",
      "from sympy.abc import x\n",
      "C1 = symbols('C1')\n",
      "y = Function(\"y\")(x)\n",
      "y_ = Derivative(y, x)\n",
      "\n",
      "eq_31 = y_ - 3*y - 6\n",
      "eq_32 = y_ + 4/x * y - x**4\n",
      "sol_31 = dsolve(eq_31)\n",
      "sol_32 = dsolve(eq_32)"
     ],
     "language": "python",
     "metadata": {},
     "outputs": [],
     "prompt_number": 68
    },
    {
     "cell_type": "code",
     "collapsed": false,
     "input": [
      "P_31 = -3\n",
      "Q_31 = 6\n",
      "M_31 = exp(integrate(P_31,x))\n",
      "Y_31 = integrate(Q_31*M_31,x)/M_31 + C1/M_31\n",
      "print Y_31\n",
      "print sol_31"
     ],
     "language": "python",
     "metadata": {},
     "outputs": [
      {
       "output_type": "stream",
       "stream": "stdout",
       "text": [
        "C1*exp(3*x) - 2\n",
        "y(x) == C1*exp(3*x) - 2\n"
       ]
      }
     ],
     "prompt_number": 89
    },
    {
     "cell_type": "code",
     "collapsed": false,
     "input": [
      "P_32 = 4/x\n",
      "Q_32 = x**4\n",
      "M_32 = exp(integrate(P_32,x))\n",
      "Y_32 = integrate(Q_32*M_32,x)/M_32 + C1/M_32\n",
      "print Y_32\n",
      "print sol_32"
     ],
     "language": "python",
     "metadata": {},
     "outputs": [
      {
       "output_type": "stream",
       "stream": "stdout",
       "text": [
        "C1/x**4 + x**5/9\n",
        "y(x) == C1/x**4 + x**5/9\n"
       ]
      }
     ],
     "prompt_number": 88
    },
    {
     "cell_type": "markdown",
     "metadata": {},
     "source": [
      "The Integrating factors are M_XX and solutions are Y_XX, sol_XX found with dsolve for comparision"
     ]
    },
    {
     "cell_type": "markdown",
     "metadata": {},
     "source": [
      "*Assignment 7.3 took me* <input class=\"time_spent\" name=\"ex73_time_spent\" /> *minutes.*"
     ]
    },
    {
     "cell_type": "markdown",
     "metadata": {},
     "source": [
      "---"
     ]
    },
    {
     "cell_type": "heading",
     "level": 4,
     "metadata": {},
     "source": [
      "Assignment 7.4: Solve the following differental equations"
     ]
    },
    {
     "cell_type": "markdown",
     "metadata": {},
     "source": [
      "Remember that a second order differential equation $y^{\\prime \\prime} + a_1 \\cdot y^\\prime + a_0 \\cdot y = 0$ with constants $a_{0, 1}$ corresponds to the characteristic equation $\\lambda^2 + a_1 \\cdot \\lambda + a_0 = 0$, which can be factored into $(\\lambda - \\lambda_1) \\cdot (\\lambda - \\lambda_2) = 0$. This is useful since the general solution of $y^{\\prime \\prime} + a_1 \\cdot y^\\prime + a_0 \\cdot y = 0$ can be obtained directly by determining the roots $\\lambda_1$ and $\\lambda_2$ if the coefficients are constant and the differential equation is linear. Determine the roots of the following differential equations and specify their solutions. See the Wikipedia article on the [characteristic equation](http://en.wikipedia.org/wiki/Characteristic_equation_(calculus)) for the three distinctive cases that determine how to obtain the solution based on what the roots are.\n",
      "\n",
      "Insert your solutions below and include code to proof your solutions are correct. Hint: use the sympy.ode.checkodesol function to validate your results."
     ]
    },
    {
     "cell_type": "markdown",
     "metadata": {},
     "source": [
      "1. $y^{\\prime \\prime} - y^\\prime - 2 \\cdot y = 0$\n",
      "2. $y^{\\prime \\prime} - 3 \\cdot y^\\prime + 4 \\cdot y = 0$\n",
      "3. $y^{\\prime \\prime} + 4 \\cdot y = 0$"
     ]
    },
    {
     "cell_type": "markdown",
     "metadata": {},
     "source": [
      "Last semester I worked these out by hand and attached a photo of my work to the pdf but didn't do the checkodesol step:\n",
      "\n",
      "1. $Y(x)=C_1 e^{2x} + C_2 e^{-x}$\n",
      "2. $Y(x)=C_1 e^{\\frac{3 x }{2}} cos(\\frac{\\sqrt{7}}{2}x) + i C_2 sin( \\frac{\\sqrt{7}}{2}x) e^{\\frac{3x}{2}}$\n",
      "3. $Y(x)=C_1 cos(2x) + C_2 sin(2x)$"
     ]
    },
    {
     "cell_type": "code",
     "collapsed": false,
     "input": [
      "# Include code here to show that your solutions are correct.\n",
      "from sympy import Function, Derivative, Eq, symbols, I, checkodesol\n",
      "from sympy.abc import x\n",
      "C1, C2 = symbols('C1,C2')\n",
      "\n",
      "y = Function(\"y\")(x)\n",
      "y_ = Derivative(y, x)\n",
      "y__ = Derivative(y_, x)\n",
      "\n",
      "eq_41 = y__ - y_ - 2*y\n",
      "eq_42 = y__ - 3*y_ + 4*y\n",
      "eq_43 = y__ + 4*y\n",
      "\n",
      "Y_41 = C1*exp(2*x) + C2*exp(-x)\n",
      "Y_42 = C1*exp(3*x/2)*cos(sqrt(7)/2 * x) + I*C2*sin(sqrt(7)/2 *x)*exp(3*x/2)\n",
      "Y_43 = C1*cos(2*x) + C2*sin(2*x)"
     ],
     "language": "python",
     "metadata": {},
     "outputs": [],
     "prompt_number": 55
    },
    {
     "cell_type": "code",
     "collapsed": false,
     "input": [
      "checkodesol(eq_41, Y_41)"
     ],
     "language": "python",
     "metadata": {},
     "outputs": [
      {
       "metadata": {},
       "output_type": "pyout",
       "prompt_number": 51,
       "text": [
        "(True, 0)"
       ]
      }
     ],
     "prompt_number": 51
    },
    {
     "cell_type": "code",
     "collapsed": false,
     "input": [
      "checkodesol(eq_42, Y_42)"
     ],
     "language": "python",
     "metadata": {},
     "outputs": [
      {
       "metadata": {},
       "output_type": "pyout",
       "prompt_number": 52,
       "text": [
        "(True, 0)"
       ]
      }
     ],
     "prompt_number": 52
    },
    {
     "cell_type": "code",
     "collapsed": false,
     "input": [
      "checkodesol(eq_43, Y_43)"
     ],
     "language": "python",
     "metadata": {},
     "outputs": [
      {
       "metadata": {},
       "output_type": "pyout",
       "prompt_number": 56,
       "text": [
        "(True, 0)"
       ]
      }
     ],
     "prompt_number": 56
    },
    {
     "cell_type": "markdown",
     "metadata": {},
     "source": [
      "*Assignment 7.4 took me* <input class=\"time_spent\" name=\"ex74_time_spent\" /> *minutes.*"
     ]
    },
    {
     "cell_type": "markdown",
     "metadata": {},
     "source": [
      "---"
     ]
    },
    {
     "cell_type": "markdown",
     "metadata": {},
     "source": [
      "<script type=\"text/javascript\">\n",
      "    function validTime(minutes) { \n",
      "        var numberIsSane = isFinite(parseInt(minutes, 10)) && (parseFloat(minutes, 10) == parseInt(minutes, 10)); \n",
      "        var numberInRange = ( (minutes >= 1) && (minutes < 60*24*7) );\n",
      "        return (numberIsSane && numberInRange);\n",
      "    }\n",
      "    function create_time_file() {\n",
      "        var kernel = IPython.notebook.kernel;\n",
      "        if (kernel) {\n",
      "            var studentName = $('#usrname').val();\n",
      "            var filename = 'MRC_' + encodeURIComponent(studentName.replace(' ', '_')) + '_20131121.txt'\n",
      "            var inputElements = $(':text.time_spent');\n",
      "            var timings = new Array();\n",
      "            if (inputElements) {\n",
      "                var allTimesAreValid = true;\n",
      "                var invalidTimeValue = null;\n",
      "                inputElements.each(function() {\n",
      "                    if (!validTime(this.value)) {\n",
      "                        allTimesAreValid = false;\n",
      "                        invalidTimeValue = this.value;\n",
      "                        return;\n",
      "                    }\n",
      "                    timings.push(this.value);\n",
      "                });\n",
      "                if (!allTimesAreValid) {\n",
      "                    alert('Unable to save assignment times, invalid time value <' + invalidTimeValue + '>');\n",
      "                    return;\n",
      "                }\n",
      "                if (!studentName) {\n",
      "                    alert('Please include your name in the submission');\n",
      "                    return;\n",
      "                }\n",
      "                if (confirm('Here are the timings I am going to save:\\n\\n' + timings.join(\" minutes\\n\") + ' minutes\\n\\nFilename: ' + filename + '\\n\\nDo you want me to continue?')) {\n",
      "                    var pyCode = [\n",
      "                        'with open(\"' + filename + '\", \"w\") as timings_file:',\n",
      "                        'print >>timings_file, \"NAME:\", \"' + studentName + '\"',\n",
      "                        'print >>timings_file, \"ASSIGNMENT TIMES:\"'\n",
      "                    ];\n",
      "                    timings.forEach(function(minutesTaken, assignmentIndex, arr) {\n",
      "                        pyCode.push('print >>timings_file, \"{0:03d}: {1:05d}\".format(' + assignmentIndex + ', ' + minutesTaken + ')');\n",
      "                    });\n",
      "                    kernel.execute(pyCode.join('\\n    '));\n",
      "                }\n",
      "            }\n",
      "        }\n",
      "        else {\n",
      "              alert('Unable to save, please manually create a file containing the times spent working on the assignments');\n",
      "        }\n",
      "    }\n",
      "</script>\n",
      "\n",
      "*Use this button to create a .txt file containing the time in minutes you spent working on the assignments. Make sure to include your name in the textbox below. The file will be created in the current directory.*\n",
      "\n",
      "\n",
      "Student's name:\n",
      "\n",
      "<input type=\"text\" id=\"usrname\" name=\"student_name\" />\n",
      "\n",
      "<input type=\"button\" onclick=\"javascript:create_time_file()\" value=\"Save timings\" />"
     ]
    }
   ],
   "metadata": {}
  }
 ]
}