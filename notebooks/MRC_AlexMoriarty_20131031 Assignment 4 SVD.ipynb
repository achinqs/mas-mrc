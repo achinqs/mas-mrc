{
 "metadata": {
  "name": ""
 },
 "nbformat": 3,
 "nbformat_minor": 0,
 "worksheets": [
  {
   "cells": [
    {
     "cell_type": "markdown",
     "metadata": {},
     "source": [
      "<style type=\"text/css\">\n",
      ".time_spent {\n",
      "    width: 3em;\n",
      "    border-style: none;\n",
      "    background-color: silver;\n",
      "    font-weight: bold;\n",
      "    padding-left: 5px;\n",
      "}\n",
      "</style>"
     ]
    },
    {
     "cell_type": "heading",
     "level": 1,
     "metadata": {},
     "source": [
      "[WS13/14] Mathematics for Robotics and Control Assignment 004 - SVD"
     ]
    },
    {
     "cell_type": "code",
     "collapsed": false,
     "input": [
      "import IPython.core.display\n",
      "import sys\n",
      "if not \"win\" in sys.platform and not \"linux\" in sys.platform:\n",
      "    %pylab\n",
      "else:\n",
      "    %pylab inline"
     ],
     "language": "python",
     "metadata": {},
     "outputs": [
      {
       "output_type": "stream",
       "stream": "stdout",
       "text": [
        "\n",
        "Welcome to pylab, a matplotlib-based Python environment [backend: module://IPython.zmq.pylab.backend_inline].\n",
        "For more information, type 'help(pylab)'.\n"
       ]
      }
     ],
     "prompt_number": 37
    },
    {
     "cell_type": "markdown",
     "metadata": {},
     "source": [
      "---"
     ]
    },
    {
     "cell_type": "heading",
     "level": 3,
     "metadata": {},
     "source": [
      "Assignment 4.1 <span style=\"color: green;\">[L1]</span>"
     ]
    },
    {
     "cell_type": "markdown",
     "metadata": {},
     "source": [
      "As discussed in the previous lab class, look at the following image:"
     ]
    },
    {
     "cell_type": "code",
     "collapsed": false,
     "input": [
      "IPython.core.display.Image(r\"images/scene001.png\")"
     ],
     "language": "python",
     "metadata": {},
     "outputs": [
      {
       "output_type": "pyout",
       "png": "images/scene001.png",
       "prompt_number": 38,
       "text": [
        "<IPython.core.display.Image object at 0x108771cd0>"
       ]
      }
     ],
     "prompt_number": 38
    },
    {
     "cell_type": "markdown",
     "metadata": {},
     "source": [
      "If you're done marvelling at my drawing skills, consider the following scenario description: the robot (the blue sphere in the picture above) moves in a rectangular arena surrounded by four pillars at every corner. On top of each of the pillars, a spherical object is mounted that sends some form of signal that the robot is able to receive. Based on some physical characteristica of the signal, the robot is able to deduce it's distance to the center of each of the spheres (the length of the dotted red lines). Examples could be the signal strength of a WiFi signal, or the time an ultrasonic signal sent by each of the spheres took to be received by the robot. Here are some properties of the arena:"
     ]
    },
    {
     "cell_type": "code",
     "collapsed": false,
     "input": [
      "IPython.core.display.Image(r\"images/g7142.png\")"
     ],
     "language": "python",
     "metadata": {},
     "outputs": [
      {
       "output_type": "pyout",
       "png": "images/g7142.png",
       "prompt_number": 41,
       "text": [
        "<IPython.core.display.Image object at 0x1086cc7d0>"
       ]
      }
     ],
     "prompt_number": 41
    },
    {
     "cell_type": "markdown",
     "metadata": {},
     "source": [
      "The robot moves around in the arena, constantly receiving the distance to each of the spheres as a quadruple. Looking at the picture above, the elements of the tuple are returned in a counter-clockwise manner, i.e. the pillar in the lower left corner will be returned at the first position inside the tuple, the distance to the sphere on top of the pillar in the lower right corner will be at the second position of the tuple and so on. Now, one of your colleagues has written the framework for the robot and wants you to verify that it's working. She hands you a bunch of test data and asks you to determine the position of the robot while it is moving around the arena. \n",
      "\n",
      "* **Implement a method to determine the robot's position via the distance to each of the spheres.**\n",
      "* **Write an update_position() method using the signature shown below. Do NOT modify the function's signature and comment in the assert before testing your implementation.**\n",
      "* **Return the robot's position from the update_position method as an iterable containing the X, Y and Z position of the robot**\n",
      "* **Assume that the position of the center of the sphere in the lower left corner is (0, 0, 0)**\n",
      "\n",
      "Remember what we discussed at the end of the last lab class, especially think of how a point that you only know the distance of can be located anywhere on the surface of a sphere whose radius equals said distance. Also remember that the position of each of the signal emitters (green spheres) is known. It might also help to think about how many of the four available signals you need in order to determine the position of the robot. Additionally, is there any \"hidden\" information available to you that imposes further constraints to the equations you are supposed to set up to determine the robot's position?"
     ]
    },
    {
     "cell_type": "code",
     "collapsed": false,
     "input": [
      "# Solution 4.1\n",
      "\n",
      "all_measurements = np.load('distances.npy')\n",
      "\n",
      "def update_position(distances):\n",
      "    ''' Determine robot position\n",
      "    #\n",
      "    # Four sphere equations :\n",
      "    # EQ1:     x^2 + y^2       + z^2 = r1^2\n",
      "    # EQ2: (x-6)^2 + y^2       + z^2 = r2^2\n",
      "    # EQ3: (x-6)^2 + (y-4.5)^2 + z^2 = r3^2\n",
      "    # EQ4:     x^2 + (y-4.5)^2 + z^2 = r4^2\n",
      "    # One more equation- we know the robot is on the ground:\n",
      "    # EQ5: z = -5.3\n",
      "    #\n",
      "    #### Subtract EQ1 from other EQ2-3. Add EQ5 to EQ4-EQ1\n",
      "    # \n",
      "    # EQ2: -12x + 0y + 0z = r2^2 - r1^2 - 6^2\n",
      "    # EQ3: -12x - 9y + 0z = r3^2 - r1^2 - 6^2 - 4.5^2\n",
      "    # EQ4:   0x - 9y + 0z = r4^2 - r1^1 - 4.5^2 - 5.3\n",
      "    # \n",
      "    '''\n",
      "    # Distances from problem definition\n",
      "    dX = 6.0\n",
      "    dY = 4.5\n",
      "    dZ = 5.3\n",
      "    \n",
      "    # aa = r1^2, bb = r2^2 ... \n",
      "    aa, bb, cc, dd = distances**2 \n",
      "    \n",
      "    A = np.array([[-2*dX,0,0],[-2*dX,-2*dY,0],[0,-2*dY,1]])\n",
      "    b = np.array([[bb-aa-dX**2,],[cc-aa-dX**2-dY**2,],[dd-aa-dY**2-dZ,]])\n",
      "    \n",
      "    U,s,V = linalg.svd(A)\n",
      "    c = dot(U.T,b)\n",
      "    w = linalg.solve(np.diag(s),c)\n",
      "    position = dot(V.T,w)\n",
      "    \n",
      "    assert len(position) == 3\n",
      "    return position\n",
      "\n",
      "\n",
      "# initialize an zero array to save x,y,z positions\n",
      "positions = np.zeros((len(all_measurements),3))\n",
      "\n",
      "for i, distances in enumerate(all_measurements):\n",
      "    positions[i] = update_position(distances).T\n",
      "\n",
      "print \"Shape of data read from file: \", all_measurements.shape\n",
      "print \"Shape of position data: \", positions.shape\n",
      "print \"A few positions:\\n\", positions[0:5,:]"
     ],
     "language": "python",
     "metadata": {},
     "outputs": [
      {
       "output_type": "stream",
       "stream": "stdout",
       "text": [
        "Shape of data read from file:  (60, 4)\n",
        "Shape of position data:  (60, 3)\n",
        "A few positions:\n",
        "[[ 0.14  2.77 -5.3 ]\n",
        " [ 0.98  2.58 -5.3 ]\n",
        " [ 1.57  2.05 -5.3 ]\n",
        " [ 2.1   1.6  -5.3 ]\n",
        " [ 2.58  1.22 -5.3 ]]\n"
       ]
      }
     ],
     "prompt_number": 34
    },
    {
     "cell_type": "markdown",
     "metadata": {},
     "source": [
      "<div>*Assignment 4.1 took me* <input class=\"time_spent\" name=\"ex41_time_spent\" /> *minutes.*</div>"
     ]
    },
    {
     "cell_type": "markdown",
     "metadata": {},
     "source": [
      "---"
     ]
    },
    {
     "cell_type": "markdown",
     "metadata": {},
     "source": [
      "<script type=\"text/javascript\">\n",
      "    function validTime(minutes) { \n",
      "        var numberIsSane = isFinite(parseInt(minutes, 10)) && (parseFloat(minutes, 10) == parseInt(minutes, 10)); \n",
      "        var numberInRange = ( (minutes >= 1) && (minutes < 60*24*7) );\n",
      "        return (numberIsSane && numberInRange);\n",
      "    }\n",
      "    function create_time_file() {\n",
      "        var kernel = IPython.notebook.kernel;\n",
      "        if (kernel) {\n",
      "            var studentName = $('#usrname').val();\n",
      "            var filename = 'MRC_' + encodeURIComponent(studentName.replace(' ', '')) + '_20131031.txt'\n",
      "            var inputElements = $(':text.time_spent');\n",
      "            var timings = new Array();\n",
      "            if (inputElements) {\n",
      "                var allTimesAreValid = true;\n",
      "                var invalidTimeValue = null;\n",
      "                inputElements.each(function() {\n",
      "                    if (!validTime(this.value)) {\n",
      "                        allTimesAreValid = false;\n",
      "                        invalidTimeValue = this.value;\n",
      "                        return;\n",
      "                    }\n",
      "                    timings.push(this.value);\n",
      "                });\n",
      "                if (!allTimesAreValid) {\n",
      "                    alert('Unable to save assignment times, invalid time value <' + invalidTimeValue + '>');\n",
      "                    return;\n",
      "                }\n",
      "                if (!studentName) {\n",
      "                    alert('Please include your name in the submission');\n",
      "                    return;\n",
      "                }\n",
      "                if (confirm('Here are the timings I am going to save:\\n\\n' + timings.join(\" minutes\\n\") + ' minutes\\n\\nFilename: ' + filename + '\\n\\nDo you want me to continue?')) {\n",
      "                    var pyCode = [\n",
      "                        'with open(\"' + filename + '\", \"w\") as timings_file:',\n",
      "                        'print >>timings_file, \"NAME:\", \"' + studentName + '\"',\n",
      "                        'print >>timings_file, \"ASSIGNMENT TIMES:\"'\n",
      "                    ];\n",
      "                    timings.forEach(function(minutesTaken, assignmentIndex, arr) {\n",
      "                        pyCode.push('print >>timings_file, \"{0:03d}: {1:05d}\".format(' + assignmentIndex + ', ' + minutesTaken + ')');\n",
      "                    });\n",
      "                    kernel.execute(pyCode.join('\\n    '));\n",
      "                }\n",
      "            }\n",
      "        }\n",
      "        else {\n",
      "              alert('Unable to save, please manually create a file containing the times spent working on the assignments');\n",
      "        }\n",
      "    }\n",
      "</script>\n",
      "\n",
      "*Use this button to create a .txt file containing the time in minutes you spent working on the assignments. Make sure to include your name in the textbox below. The file will be created in the current directory.*\n",
      "\n",
      "\n",
      "Student's name:\n",
      "\n",
      "<input type=\"text\" id=\"usrname\" name=\"student_name\" />\n",
      "\n",
      "<input type=\"button\" onclick=\"javascript:create_time_file()\" value=\"Save timings\" />"
     ]
    },
    {
     "cell_type": "code",
     "collapsed": false,
     "input": [],
     "language": "python",
     "metadata": {},
     "outputs": []
    }
   ],
   "metadata": {}
  }
 ]
}