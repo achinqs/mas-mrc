{
 "metadata": {
  "name": "MRC_AlexMoriarty_20131007"
 },
 "nbformat": 3,
 "nbformat_minor": 0,
 "worksheets": [
  {
   "cells": [
    {
     "cell_type": "markdown",
     "metadata": {},
     "source": [
      "<style type=\"text/css\">\n",
      ".time_spent {\n",
      "    width: 3em;\n",
      "    border-style: none;\n",
      "    background-color: silver;\n",
      "    font-weight: bold;\n",
      "    padding-left: 5px;\n",
      "}\n",
      "</style>"
     ]
    },
    {
     "cell_type": "heading",
     "level": 1,
     "metadata": {},
     "source": [
      "[WS13/14] Mathematics for Robotics and Control: Assignment 001 - Frames"
     ]
    },
    {
     "cell_type": "code",
     "collapsed": false,
     "input": [
      "import IPython.core.display\n",
      "import sys\n",
      "if not \"win\" in sys.platform and not \"linux\" in sys.platform:\n",
      "    %pylab\n",
      "else:\n",
      "    %pylab inline"
     ],
     "language": "python",
     "metadata": {},
     "outputs": [
      {
       "output_type": "stream",
       "stream": "stdout",
       "text": [
        "\n",
        "Welcome to pylab, a matplotlib-based Python environment [backend: module://IPython.zmq.pylab.backend_inline].\n",
        "For more information, type 'help(pylab)'.\n"
       ]
      }
     ],
     "prompt_number": 57
    },
    {
     "cell_type": "markdown",
     "metadata": {},
     "source": [
      "---"
     ]
    },
    {
     "cell_type": "markdown",
     "metadata": {},
     "source": [
      "Assignments are usually marked with a difference level based on what your TA thinks the average student should be capable of:\n",
      "\n",
      "* <span style=\"color: green;\">[L1]</span>: The required solution is very similar to what we already discussed in the lecture / lab class. No surprises here.\n",
      "* <span style=\"color: orange;\">[L2]</span>: The solution requires the application of theoretical and practical knowledge you already have, but might require applying said knowledge in a different manner / to a different problem. If there is new stuff, there really is nothing to it, i.e. no new material will be introduced that would offer any depth or require you to understand any of it before you'd be able to apply it.\n",
      "* <span style=\"color: red;\">[L3]</span>: Oh-Em-Gee, you actually have to think to solve this assignment. You might even have to look up new stuff. What a drag!\n",
      "\n",
      "These ratings are included to help you plan on how you want to work on the assignment, to better schedule your time etc."
     ]
    },
    {
     "cell_type": "markdown",
     "metadata": {},
     "source": [
      "---"
     ]
    },
    {
     "cell_type": "heading",
     "level": 3,
     "metadata": {},
     "source": [
      "Function and Module List"
     ]
    },
    {
     "cell_type": "markdown",
     "metadata": {},
     "source": [
      "Each week, the assignment sheet will contain a list of Python modules and functions you are supposed to know. These modules and functions will help you to solve the assignments and most of them are required in later assignments. You are expected to familiarize yourself with each module / function listed here and to know when and how to apply them. Remember this is especially important in the exam!"
     ]
    },
    {
     "cell_type": "markdown",
     "metadata": {},
     "source": [
      "**Modules**:\n",
      "\n",
      "* numpy\n",
      "* matplotlib.pyplot\n",
      "* sympy.physics.mechanics\n",
      "\n",
      "**Functions**:\n",
      "\n",
      "numpy:\n",
      "\n",
      "* arange, apply_along_axis, array, asarray, diag, dstack, flat, flatten, hstack, linspace, load, ones, ravel, save, shape, split, squeeze, vstack, zeros\n",
      "\n",
      "\n",
      " matplotlib.pyplot:\n",
      "\n",
      "* cla, clf, figure, gca, legend, plot, show, subplot, title, xlabel, xlim, ylabel, ylim\n",
      "\n",
      "\n",
      "sympy.physics.mechanics.ReferenceFrame:\n",
      "\n",
      "* dcm, orient, orientnew, x, y, z"
     ]
    },
    {
     "cell_type": "markdown",
     "metadata": {},
     "source": [
      "---"
     ]
    },
    {
     "cell_type": "heading",
     "level": 3,
     "metadata": {},
     "source": [
      "Assignment 1.1 <span style=\"color: green;\">[L1]</span>"
     ]
    },
    {
     "cell_type": "markdown",
     "metadata": {},
     "source": [
      "Have a look at the following video that depicts the KUKA youBot during the 2012 hackathon at BRSU drawing a picture of itself."
     ]
    },
    {
     "cell_type": "code",
     "collapsed": false,
     "input": [
      "IPython.display.YouTubeVideo(\"1OYyTs3DrPo?html5=1\")"
     ],
     "language": "python",
     "metadata": {},
     "outputs": [
      {
       "ename": "AttributeError",
       "evalue": "'module' object has no attribute 'display'",
       "output_type": "pyerr",
       "traceback": [
        "\u001b[0;31m---------------------------------------------------------------------------\u001b[0m\n\u001b[0;31mAttributeError\u001b[0m                            Traceback (most recent call last)",
        "\u001b[0;32m<ipython-input-58-95527e9cc1e7>\u001b[0m in \u001b[0;36m<module>\u001b[0;34m()\u001b[0m\n\u001b[0;32m----> 1\u001b[0;31m \u001b[0mIPython\u001b[0m\u001b[0;34m.\u001b[0m\u001b[0mdisplay\u001b[0m\u001b[0;34m.\u001b[0m\u001b[0mYouTubeVideo\u001b[0m\u001b[0;34m(\u001b[0m\u001b[0;34m\"1OYyTs3DrPo?html5=1\"\u001b[0m\u001b[0;34m)\u001b[0m\u001b[0;34m\u001b[0m\u001b[0m\n\u001b[0m",
        "\u001b[0;31mAttributeError\u001b[0m: 'module' object has no attribute 'display'"
       ]
      }
     ],
     "prompt_number": 58
    },
    {
     "cell_type": "markdown",
     "metadata": {},
     "source": [
      "Assume the robot has a <a href=\"files/images/youbot_render.png\">local reference frame</a> attached to it's base, called $R_{YB}$. The drawing software on the youBot sends the coordinates of the tip of the pen used to create the drawing to an external softwarepackage. All point coordinates are expressed in $R_{YB}$. Furthermore, the youBot is drawing autonomously in an arena while you are observing it from a elevated, remote location behind a glass panel. See the picture below if you are unsure what the scenario looks like."
     ]
    },
    {
     "cell_type": "code",
     "collapsed": false,
     "input": [
      "IPython.core.display.Image(r\"images/observationlab.jpg\", embed=True)"
     ],
     "language": "python",
     "metadata": {},
     "outputs": []
    },
    {
     "cell_type": "markdown",
     "metadata": {},
     "source": [
      "While you are looking down at the youBot drawing stuff, the little fellow transmits its local coordinates to a computer near you. Now, you want to print a copy of whatever the youBot is drawing using an old 70s plotter sitting on your desk inside the observation room (if you've never seen a plotter, <a href=\"files/images/plotter.jpg\">here is an example image</a>). Now, the plotter only accepts drawing coordinates in it's local coordinate frame, so you have to convert whatever coordinates the youBot is sending. You can assume that the youBot is drawing on the floor of the observation lab. The floor of your chamber is located $5m$ above the lab floor, and the plotter is sitting on a desk that is $72cm$ high. Note that the plotter is a vertical model, and it's drawing area is facing away from the observation window. The distance from the origin of the drawing area of the plotter and the origin of $R_{YB}$ is exactly $7.5m$. You can assume that the size of the drawing area of the youBot and the plotter's drawing area size are identical, and that the X axes of both frames are aligned.\n",
      "\n",
      "**Write a program that loads the data file youbot_drawing_points.npy and simulate the plotter using matplotlib to obtain a copy of whatever the youBot is drawing. Display the image.**"
     ]
    },
    {
     "cell_type": "code",
     "collapsed": false,
     "input": [
      "# Solution 1.1\n",
      "# ...\n",
      "\n",
      "\n",
      "from mpl_toolkits.mplot3d import Axes3D\n",
      "import matplotlib.pyplot as plt\n",
      "import matplotlib as mpl\n",
      "import numpy as np\n",
      "import sympy.physics.mechanics \n",
      "\n",
      "data = np.load('youbot_drawing_points.npy')\n",
      "\n",
      "YBx = data[:, 0]\n",
      "YBy = data[:, 1]\n",
      "YBz = data[:, 2]\n",
      "\n",
      "W = sympy.physics.mechanics.ReferenceFrame(\"W\")\n",
      "C = W.orientnew(\"C\", \"Axis\", (radians(90), W.x))\n",
      "R = W.dcm(C)\n",
      "\n",
      "\n",
      "#print type(rData)\n",
      "R = np.array(np.asarray(R), dtype=np.float64)\n",
      "#print type(R)\n",
      "\n",
      "rData = np.dot(data, R)\n",
      "#mData = np.dot(data, R.T)\n",
      "\n",
      "PTx = rData[:, 0]\n",
      "PTy = rData[:, 1]\n",
      "PTz = rData[:, 2]\n",
      "\n",
      "plt.scatter(PTx,PTy , c=PTz, marker='.', alpha=0.03, cmap=mpl.cm.gray)\n",
      "\n",
      "plt.show()"
     ],
     "language": "python",
     "metadata": {},
     "outputs": [
      {
       "output_type": "display_data",
       "png": "[encoded data removed]"
      }
     ],
     "prompt_number": 59
    },
    {
     "cell_type": "markdown",
     "metadata": {},
     "source": [
      "\n",
      "\n",
      "\n",
      "<div>*Assignment 1.1 took me* <input class=\"time_spent\" name=\"ex11_time_spent\" /> *minutes.*</div>"
     ]
    },
    {
     "cell_type": "markdown",
     "metadata": {},
     "source": [
      "---"
     ]
    },
    {
     "cell_type": "heading",
     "level": 3,
     "metadata": {},
     "source": [
      "Assignment 1.2 <span style=\"color: orange;\">L2</span>"
     ]
    },
    {
     "cell_type": "markdown",
     "metadata": {},
     "source": [
      "Look at slide number 47 for this week's lecture, titled \"*Computational Considerations*\". The slide discusses two different methods of going from a frame $D$ to a destination frame $A$, using two intermediate frames $B$ and $C$. The first method suggests combining the matrices $^{A}_BR$, $^{B}_CR$ and $^{C}_DR$ into a new matrix $^{A}_DR$ and apply this matrix repeatedly, while the second approach would go through each single matrix separately when transforming a new point to the destination frame. \n",
      "\n",
      "So, in general: $^{A}P = ^{A}_BR \\cdot ^{B}_CR \\cdot ^{C}_DR \\cdot ^{D}P$\n",
      "\n",
      "\n",
      "<ol>\n",
      "<li>Method 1: $^{A}P = ^{A}_DR \\cdot ^{D}P$</li>\n",
      "<li>Method 2:\n",
      "    <ol>\n",
      "        <li>$^{A}P = ^{A}_BR \\cdot ^{B}_CR \\cdot ^{C}_DR \\cdot ^{D}P$</li>\n",
      "        <li>$^{A}P = ^{A}_BR \\cdot ^{B}_C R \\cdot ^{C}P$</li>\n",
      "        <li>$^{A}P = ^{A}_BR \\cdot ^{B}P$</li>\n",
      "        <li>$^{A}P = ^{A}P$</li>\n",
      "    </ol>\n",
      "</li>\n",
      "</ol>\n",
      "\n",
      "Imagine $^{D}P$ is changing at 100Hz, resulting in 100 re-computations of $^{A}P$ per second. Additionally, each of the three rotation matrices is changing as well, but updated with a frequency of 30Hz.\n",
      "\n",
      "<ol>\n",
      "    <li><strong>Describe a situation in which this scenario could occur. Why would the update rates be different? Why would the rotation matrices change?</strong></li>\n",
      "    <li><strong>What is the best way to organize the computation of $^{A}P$ to minimize the calculation effort? Use the number of multiplications and additions as a metric (see lecture slide 47).</strong></li>\n",
      "    <li><strong>Write a little Python script that implements both methods and simulate both use cases using the update rates mentioned above. Use IPython's %timeit macro to measure the time for both scenarios. Examine if your simulation support your previous claims.</strong></li>\n",
      "</ol>\n",
      "\n"
     ]
    },
    {
     "cell_type": "markdown",
     "metadata": {},
     "source": [
      "<p>\n",
      "I.  Sensors update at different frequencies, A laser scanner may update at 100Hz while a vision sensor is more likely to update at 30Hz.\n",
      "    The rotation matrices may also be updating if the sensor systems are attached to an actuator. \"Jenny's\" torso, or a laser scanner\n",
      "    on an arm for example.\n",
      "</p>\n",
      "\n",
      "<p>\n",
      "II.\n",
      "    Using basic matrix multiplication, multiplying two N-by-N Matrices requires N multiplications and (N-1) additions for each of the NxN resulting elements. Computing:\n",
      "\n",
      "$^{A}_DR = ^{A}_BR \\cdot ^{B}_CR \\cdot ^{C}_DR$\n",
      "\n",
      "Therefor requires two 3x3 matrix multiplications. One 3-by-3 matrix multiplication requires:\n",
      "\n",
      "$9 elements * ( 3 multiplications + 2 additions ) = 27 multiplications + 18 additions$  \n",
      "\n",
      "Twice requires 54 multiplications and 36 additions. This rotation matrix, $^{A}_DR  $ would need to be updated at 30Hz. \n",
      "\n",
      "In contrast, multiplying a Matrix by a vector reduces the dimensionality. a N-by-N matrix, multiplied by a N-by-1 vector produces another N-by-1 vector, each element of which required as before N multiplications and N-1 additions, but this time there are less elements.\n",
      "\n",
      "in step A: $^{A}P = ^{A}_BR \\cdot ^{B}_CR \\cdot ^{C}_DR \\cdot ^{D}P$<br>\n",
      "The first step $^{C}P = ^{C}_DR \\cdot ^{D}P$ required 9 multiplications and 6 additions.\n",
      "\n",
      "$^{C}P, $^{B}P, $^{A}P$ each required 9 multiplcations and 6 additions. For a total of 27 multiplications and 18 additions. This needs to be done at a frequency of 100 Hz. Transforming the vector one rotation at a time, at 100Hz requires 2700 multiplications and 1800 additions per second. \n",
      "\n",
      "Keeping the Rotation matrix up to date at 30Hz requires 1620 multiplications and 1080 additions. And that is only the Rotation matrix. there is an additional 9 multiplications and 6 additions that must be done to achieve the final answer every 100Hz. for a grand total of 2520 multiplications and 1680 additions per second. Therefor the best way to organize the computation of $  ^{A}P  $ is the first method presented.\n",
      "    \n",
      "</p>"
     ]
    },
    {
     "cell_type": "code",
     "collapsed": false,
     "input": [
      "# Solution 1.2 III\n",
      "# ...\n",
      "\n",
      "'''\n",
      "Did not complete part III\n",
      "'''"
     ],
     "language": "python",
     "metadata": {},
     "outputs": [],
     "prompt_number": 52
    },
    {
     "cell_type": "markdown",
     "metadata": {},
     "source": [
      "\n",
      "\n",
      "\n",
      "<div>*Assignment 1.2 took me* <input class=\"time_spent\" name=\"ex12_time_spent\" /> *minutes.*</div>"
     ]
    },
    {
     "cell_type": "markdown",
     "metadata": {},
     "source": [
      "---"
     ]
    },
    {
     "cell_type": "heading",
     "level": 3,
     "metadata": {},
     "source": [
      "Assignment 1.3 <span style=\"color: orange;\">[L2]</span>"
     ]
    },
    {
     "cell_type": "markdown",
     "metadata": {},
     "source": [
      "You are the processing unit of the <a href=\"http://xkcd.com/695/\">Mars rover Spirit</a>, currently stuck in the soil of <a href=\"files/images/mars.jpg\">Mars</a>, unable to move. Power is failing, your creators seem to have abandoned you, and yet your mission continues. With only a single <a href=\"http://en.wikipedia.org/wiki/Lidar\">LIDAR</a> sensor remaining, you notice a distant <a href=\"files/images/marsdustdevil.gif\">movement</a>. Recalling your position, you remember mission control commanded you to established a reference frame $W$ a while ago, and that the center of your base is currently residing at $^{W}P_S = (3.7m, 3.5m, 0m)$. Accessing your construction schematics tells you your LIDAR is sitting on top of a $50cm$ long pole whose center is located at polar coordinates $r = 43cm, \\phi = 37^\\circ$, where the center of your base is the origin of the polar coordinate system. The LIDAR is a long-range laser scanner with an opening angle of $180^\\circ$, directly transmitting the distance of the moving phenomenon relative to the LIDAR's own position into your memory banks in steps of $1^\\circ$. Degree zero is exactly on your right, degree 180 exactly on your left. Now, given your new status as \"Stationary Research Platform\" (pff!), you decide to watch the phenomenon for a while and record it's movement."
     ]
    },
    {
     "cell_type": "code",
     "collapsed": false,
     "input": [
      "IPython.core.display.Image(r\"images/lidar_scanner.png\", embed=True)"
     ],
     "language": "python",
     "metadata": {},
     "outputs": [
      {
       "output_type": "pyout",
       "png": "images/lidar_scanner.png",
       "prompt_number": 53,
       "text": [
        "<IPython.core.display.Image object at 0x10a57d190>"
       ]
      }
     ],
     "prompt_number": 53
    },
    {
     "cell_type": "markdown",
     "metadata": {},
     "source": [
      "Over time, you obtain 1000 LIDAR scans and detect the object at different positions. You save your observations in the file lidar_scan.npy. **Reconstruct, extrapolate and visualize the object's movement according to your sensor scans. Is there any logic to it's movement?**"
     ]
    },
    {
     "cell_type": "code",
     "collapsed": false,
     "input": [
      "# Solution 1.3\n",
      "# ...\n",
      "\n",
      "# Incomplete: Not using ReferenceFrame from Sympy, reading doc now\n",
      "\n",
      "from mpl_toolkits.mplot3d import Axes3D\n",
      "import matplotlib.pyplot as plt\n",
      "import matplotlib as mpl\n",
      "import numpy as np\n",
      "import sympy.physics.mechanics \n",
      "\n",
      "data = np.load('lidar_scan.npy')\n",
      "\n",
      "r = data[data.nonzero()]\n",
      "a = data.nonzero()[1]\n",
      "t = data.nonzero()[0]\n",
      "\n",
      "m = np.amax(r)\n",
      "\n",
      "mx = m*np.cos(np.deg2rad(np.arange(180)))\n",
      "my = m*np.sin(np.deg2rad(np.arange(180)))\n",
      "\n",
      "x = r * ( np.cos(np.deg2rad(a)) )\n",
      "y = r * ( np.sin(np.deg2rad(a)) )\n",
      "fig = plt.figure()\n",
      "axes = fig.add_subplot(111)\n",
      "axes.set_aspect(\"equal\", )\n",
      "plt.scatter(x,y, c=t, marker='o')\n",
      "#cb = fig.colorbar(plt)\n",
      "# color bar not working, but c=t is setting point colour to sample index time.\n",
      "# We see that the object is moving in a circle. \n",
      "\n",
      "# Simulated LIDAR Range\n",
      "plt.scatter(mx,my, marker='.', alpha=0.1)\n",
      "\n",
      "# Center of LIDAR FRAME\n",
      "plt.plot(0,0,marker='x') \n",
      "\n",
      "'''\n",
      "W = sympy.physics.mechanics.ReferenceFrame(\"W\")\n",
      "C = W.orientnew(\"C\", \"Axis\", (radians(90), W.x))\n",
      "R = W.dcm(C)\n",
      "....\n",
      "'''\n",
      "plt.show()\n"
     ],
     "language": "python",
     "metadata": {},
     "outputs": [
      {
       "output_type": "display_data",
       "png": "[encoded data removed]"
      }
     ],
     "prompt_number": 60
    },
    {
     "cell_type": "markdown",
     "metadata": {},
     "source": [
      "\n",
      "\n",
      "\n",
      "<div>*Assignment 1.3 took me* <input class=\"time_spent\" name=\"ex13_time_spent\" /> *minutes.*</div>"
     ]
    },
    {
     "cell_type": "markdown",
     "metadata": {},
     "source": [
      "---"
     ]
    },
    {
     "cell_type": "markdown",
     "metadata": {},
     "source": [
      "<script type=\"text/javascript\">\n",
      "    function validTime(minutes) { \n",
      "        var numberIsSane = isFinite(parseInt(minutes, 10)) && (parseFloat(minutes, 10) == parseInt(minutes, 10)); \n",
      "        var numberInRange = ( (minutes >= 1) && (minutes < 60*24*7) );\n",
      "        return (numberIsSane && numberInRange);\n",
      "    }\n",
      "    function create_time_file() {\n",
      "        var kernel = IPython.notebook.kernel;\n",
      "        if (kernel) {\n",
      "            var studentName = $('#usrname').val();\n",
      "            var filename = 'MRC_' + encodeURIComponent(studentName.replace(' ', '')) + '_20131007.txt'\n",
      "            var inputElements = $(':text.time_spent');\n",
      "            var timings = new Array();\n",
      "            if (inputElements) {\n",
      "                var allTimesAreValid = true;\n",
      "                var invalidTimeValue = null;\n",
      "                inputElements.each(function() {\n",
      "                    if (!validTime(this.value)) {\n",
      "                        allTimesAreValid = false;\n",
      "                        invalidTimeValue = this.value;\n",
      "                        return;\n",
      "                    }\n",
      "                    timings.push(this.value);\n",
      "                });\n",
      "                if (!allTimesAreValid) {\n",
      "                    alert('Unable to save assignment times, invalid time value <' + invalidTimeValue + '>');\n",
      "                    return;\n",
      "                }\n",
      "                if (!studentName) {\n",
      "                    alert('Please include your name in the submission');\n",
      "                    return;\n",
      "                }\n",
      "                if (confirm('Here are the timings I am going to save:\\n\\n' + timings.join(\" minutes\\n\") + ' minutes\\n\\nFilename: ' + filename + '\\n\\nDo you want me to continue?')) {\n",
      "                    var pyCode = [\n",
      "                        'with open(\"' + filename + '\", \"w\") as timings_file:',\n",
      "                        'print >>timings_file, \"NAME:\", \"' + studentName + '\"',\n",
      "                        'print >>timings_file, \"ASSIGNMENT TIMES:\"'\n",
      "                    ];\n",
      "                    timings.forEach(function(minutesTaken, assignmentIndex, arr) {\n",
      "                        pyCode.push('print >>timings_file, \"{0:03d}: {1:05d}\".format(' + assignmentIndex + ', ' + minutesTaken + ')');\n",
      "                    });\n",
      "                    kernel.execute(pyCode.join('\\n    '));\n",
      "                }\n",
      "            }\n",
      "        }\n",
      "        else {\n",
      "              alert('Unable to save, please manually create a file containing the times spent working on the assignments');\n",
      "        }\n",
      "    }\n",
      "</script>\n",
      "\n",
      "*Use this button to create a .txt file containing the time in minutes you spent working on the assignments. Make sure to include your name in the textbox below. The file will be created in the current directory.*\n",
      "\n",
      "\n",
      "Student's name:\n",
      "\n",
      "<input type=\"text\" id=\"usrname\" name=\"student_name\" />\n",
      "\n",
      "<input type=\"button\" onclick=\"javascript:create_time_file()\" value=\"Save timings\" />"
     ]
    }
   ],
   "metadata": {}
  }
 ]
}