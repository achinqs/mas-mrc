{
 "metadata": {
  "name": ""
 },
 "nbformat": 3,
 "nbformat_minor": 0,
 "worksheets": [
  {
   "cells": [
    {
     "cell_type": "markdown",
     "metadata": {},
     "source": [
      "<style type=\"text/css\">\n",
      ".time_spent {\n",
      "    width: 3em;\n",
      "    border-style: none;\n",
      "    background-color: silver;\n",
      "    font-weight: bold;\n",
      "    padding-left: 5px;\n",
      "}\n",
      "</style>"
     ]
    },
    {
     "cell_type": "heading",
     "level": 1,
     "metadata": {},
     "source": [
      "Mathematics for Robotics and Control WS2013/14 - Assignment 6: Signals and Systems"
     ]
    },
    {
     "cell_type": "code",
     "collapsed": false,
     "input": [
      "import IPython.core.display\n",
      "import sys\n",
      "if not \"win\" in sys.platform and not \"linux\" in sys.platform:\n",
      "    %pylab\n",
      "else:\n",
      "    %pylab inline"
     ],
     "language": "python",
     "metadata": {},
     "outputs": [
      {
       "output_type": "stream",
       "stream": "stdout",
       "text": [
        "Populating the interactive namespace from numpy and matplotlib\n"
       ]
      }
     ],
     "prompt_number": 1
    },
    {
     "cell_type": "markdown",
     "metadata": {},
     "source": [
      "---"
     ]
    },
    {
     "cell_type": "markdown",
     "metadata": {},
     "source": [
      "**Modules**:\n",
      "\n",
      "* control\n",
      "* numpy\n",
      "* scipy.io.wavfile\n",
      "* scipy.signal\n",
      "\n",
      "\n",
      "**Functions**:\n",
      "\n",
      "control:\n",
      "\n",
      "* feedback, parallel, series, tf\n",
      "\n",
      "scipy.io.wavfile:\n",
      "\n",
      "* read"
     ]
    },
    {
     "cell_type": "markdown",
     "metadata": {},
     "source": [
      "---"
     ]
    },
    {
     "cell_type": "heading",
     "level": 4,
     "metadata": {},
     "source": [
      "Assignment 6.1 **<span style=\"color: green;\">L1</span>**"
     ]
    },
    {
     "cell_type": "markdown",
     "metadata": {},
     "source": [
      "Go to [https://www.cds.caltech.edu/~murray/wiki/Control_Systems_Library_for_Python](https://www.cds.caltech.edu/~murray/wiki/Control_Systems_Library_for_Python) and download the Control Systems Library for Python. Use Anaconda's **pip** to install the library into your local Anaconda environment. Familiarize yourself with pip [here](http://www.pip-installer.org/en/latest/). Please note that a version of pip is *already installed* in your Anaconda environment.\n",
      "\n",
      "**Familiarize yourself with the control packages. Use control.parallel, control.series, control.feedback and control.tf to model the system depicted below. Obtain a SINGLE transfer function that is equivalent to the complete system, i.e. REDUCE the block diagram to a single transfer function.**"
     ]
    },
    {
     "cell_type": "code",
     "collapsed": false,
     "input": [
      "import control\n",
      "import control.matlab as ml\n",
      "\n",
      "# create all systems\n",
      "sys1 = ml.tf([1],[1,12])\n",
      "sys2 = ml.tf([20],[1,0])\n",
      "sys3 = ml.tf([0.2,0],[1])\n",
      "sys4 = ml.tf([10],[1])\n",
      "sys5 = ml.tf([10],[1])\n",
      "sys6 = ml.tf([1],[1])\n",
      "\n",
      "# combine systems \n",
      "sys_12 = ml.series(sys1, sys2)\n",
      "sys_123 = ml.feedback(sys_12, sys3)\n",
      "sys_45 = ml.parallel(sys4, sys5)\n",
      "sys_12345 = ml.series(sys_45,sys_123)\n",
      "sys_123456 = ml.feedback(sys_12345, sys6)\n",
      "\n",
      "print(sys_123456)\n",
      "\n",
      "# or dot it in one line\n",
      "answer = ml.feedback(ml.series(ml.parallel(sys4,sys5),ml.feedback(ml.series(sys1, sys2),sys3)),sys6)\n",
      "print(answer)"
     ],
     "language": "python",
     "metadata": {},
     "outputs": [
      {
       "output_type": "stream",
       "stream": "stdout",
       "text": [
        "\n",
        "      400\n",
        "----------------\n",
        "s^2 + 16 s + 400\n",
        "\n",
        "\n",
        "      400\n",
        "----------------\n",
        "s^2 + 16 s + 400\n",
        "\n"
       ]
      }
     ],
     "prompt_number": 38
    },
    {
     "cell_type": "markdown",
     "metadata": {},
     "source": [
      "*Assignment 6.1 took me* <input class=\"time_spent\" name=\"ex61_time_spent\" /> *minutes.*"
     ]
    },
    {
     "cell_type": "code",
     "collapsed": false,
     "input": [
      "IPython.core.display.Image(r\"images/bdiag0002.png\", embed=True)"
     ],
     "language": "python",
     "metadata": {},
     "outputs": [
      {
       "metadata": {},
       "output_type": "pyout",
       "png": "[encoded data removed]",
       "prompt_number": 4,
       "text": [
        "<IPython.core.display.Image at 0x24c91d0>"
       ]
      }
     ],
     "prompt_number": 4
    },
    {
     "cell_type": "markdown",
     "metadata": {},
     "source": [
      "---"
     ]
    },
    {
     "cell_type": "heading",
     "level": 4,
     "metadata": {},
     "source": [
      "Assignment 6.2 **<span style=\"color: orange;\">L2</span>**"
     ]
    },
    {
     "cell_type": "markdown",
     "metadata": {},
     "source": [
      "Find the Laplace transform Y(s) of the following functions:\n",
      "    \n",
      "1. $y(t) = e^{-2 \\cdot t} \\cdot u(t) + e^{-3 \\cdot t} \\cdot u(t)$\n",
      "2. $y(t) = e^{-3 \\cdot t} \\cdot u(t) + e^{2 \\cdot t} \\cdot u(-t)$\n",
      "3. $y(t) = e^{2 \\cdot t} \\cdot u(t) + e^{-3 \\cdot t} \\cdot u(-t)$\n",
      "\n",
      "Figure out how to obtain the Laplace transforms inside this notebook, without doing it manually."
     ]
    },
    {
     "cell_type": "code",
     "collapsed": false,
     "input": [
      "import sympy as spy\n",
      "from sympy import Heaviside as H\n",
      "from sympy import exp as E\n",
      "from sympy import laplace_transform as laplace\n",
      "\n",
      "t, s = spy.symbols('t s')\n",
      "\n",
      "\n",
      "fn1 = E(-2*t)*H(t)+E(-3*t)*H(t)\n",
      "fn2 = E(-3*t)*H(t)+E(2*t)*H(-t)\n",
      "fn3 = E(2*t)*H(t)+E(-3*t)*H(-t)\n",
      "\n",
      "# laplace returns ``(F, a, cond)`` so take laplace()[0]\n",
      "FN1 = laplace(fn1, t, s)[0]\n",
      "FN2 = laplace(fn2, t, s)[0]\n",
      "FN3 = laplace(fn3, t, s)[0]\n",
      "\n",
      "print(FN1)\n",
      "print(FN2)\n",
      "print(FN3)"
     ],
     "language": "python",
     "metadata": {},
     "outputs": [
      {
       "output_type": "stream",
       "stream": "stdout",
       "text": [
        "(2*s + 5)/((s + 2)*(s + 3))\n",
        "1/(s + 3)\n",
        "1/(s - 2)\n"
       ]
      }
     ],
     "prompt_number": 43
    },
    {
     "cell_type": "markdown",
     "metadata": {},
     "source": [
      "*Assignment 6.2 took me* <input class=\"time_spent\" name=\"ex62_time_spent\" /> *minutes.*"
     ]
    },
    {
     "cell_type": "markdown",
     "metadata": {},
     "source": [
      "---"
     ]
    },
    {
     "cell_type": "markdown",
     "metadata": {},
     "source": [
      "Assignment 6.3 **<span style=\"color: red;\">L3</span>**"
     ]
    },
    {
     "cell_type": "markdown",
     "metadata": {},
     "source": [
      "Read [this article](http://www.songho.ca/dsp/convolution/convolution.html) about convolution, a very important concept in signal processing. After you are done, [read some more](http://www.dspguide.com/ch6/1.htm). Now, remember that robot you were supposed to program to clean up after a party in one of the earlier assignments? A few hours earlier, this robot was serving as an electronic butler at said party and was supposed to answer the phone when guests looking for directions were calling. The robot knows the ringtone of it's owner's telephone quite well (file 00001.wav) and is constantly listening to an audio stream of ambient sounds at the party (file 00003.wav). Use convolution to determine the exact point in time where the phone was ringing, relative to the beginning of the ambient sounds. If your robot is especially clever, it might even take on file 00002.wav, which corresponds to what the robot would hear at a real party and is thus a little harder to process. This part of the assignment is optional."
     ]
    },
    {
     "cell_type": "code",
     "collapsed": false,
     "input": [
      "# Solution 6.3\n",
      "# ..."
     ],
     "language": "python",
     "metadata": {},
     "outputs": [],
     "prompt_number": 5
    },
    {
     "cell_type": "markdown",
     "metadata": {},
     "source": [
      "*Assignment 6.3 took me* <input class=\"time_spent\" name=\"ex63_time_spent\" /> *minutes.*"
     ]
    },
    {
     "cell_type": "markdown",
     "metadata": {},
     "source": [
      "---"
     ]
    },
    {
     "cell_type": "markdown",
     "metadata": {},
     "source": [
      "<script type=\"text/javascript\">\n",
      "    function validTime(minutes) { \n",
      "        var numberIsSane = isFinite(parseInt(minutes, 10)) && (parseFloat(minutes, 10) == parseInt(minutes, 10)); \n",
      "        var numberInRange = ( (minutes >= 1) && (minutes < 60*24*7) );\n",
      "        return (numberIsSane && numberInRange);\n",
      "    }\n",
      "    function create_time_file() {\n",
      "        var kernel = IPython.notebook.kernel;\n",
      "        if (kernel) {\n",
      "            var studentName = $('#usrname').val();\n",
      "            var filename = 'MRC_' + encodeURIComponent(studentName.replace(' ', '_')) + '_20131114.txt'\n",
      "            var inputElements = $(':text.time_spent');\n",
      "            var timings = new Array();\n",
      "            if (inputElements) {\n",
      "                var allTimesAreValid = true;\n",
      "                var invalidTimeValue = null;\n",
      "                inputElements.each(function() {\n",
      "                    if (!validTime(this.value)) {\n",
      "                        allTimesAreValid = false;\n",
      "                        invalidTimeValue = this.value;\n",
      "                        return;\n",
      "                    }\n",
      "                    timings.push(this.value);\n",
      "                });\n",
      "                if (!allTimesAreValid) {\n",
      "                    alert('Unable to save assignment times, invalid time value <' + invalidTimeValue + '>');\n",
      "                    return;\n",
      "                }\n",
      "                if (!studentName) {\n",
      "                    alert('Please include your name in the submission');\n",
      "                    return;\n",
      "                }\n",
      "                if (confirm('Here are the timings I am going to save:\\n\\n' + timings.join(\" minutes\\n\") + ' minutes\\n\\nFilename: ' + filename + '\\n\\nDo you want me to continue?')) {\n",
      "                    var pyCode = [\n",
      "                        'with open(\"' + filename + '\", \"w\") as timings_file:',\n",
      "                        'print >>timings_file, \"NAME:\", \"' + studentName + '\"',\n",
      "                        'print >>timings_file, \"ASSIGNMENT TIMES:\"'\n",
      "                    ];\n",
      "                    timings.forEach(function(minutesTaken, assignmentIndex, arr) {\n",
      "                        pyCode.push('print >>timings_file, \"{0:03d}: {1:05d}\".format(' + assignmentIndex + ', ' + minutesTaken + ')');\n",
      "                    });\n",
      "                    kernel.execute(pyCode.join('\\n    '));\n",
      "                }\n",
      "            }\n",
      "        }\n",
      "        else {\n",
      "              alert('Unable to save, please manually create a file containing the times spent working on the assignments');\n",
      "        }\n",
      "    }\n",
      "</script>\n",
      "\n",
      "*Use this button to create a .txt file containing the time in minutes you spent working on the assignments. Make sure to include your name in the textbox below. The file will be created in the current directory.*\n",
      "\n",
      "\n",
      "Student's name:\n",
      "\n",
      "<input type=\"text\" id=\"usrname\" name=\"student_name\" />\n",
      "\n",
      "<input type=\"button\" onclick=\"javascript:create_time_file()\" value=\"Save timings\" />"
     ]
    }
   ],
   "metadata": {}
  }
 ]
}