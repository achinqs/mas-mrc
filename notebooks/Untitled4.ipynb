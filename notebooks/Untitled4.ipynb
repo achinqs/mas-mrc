{
 "metadata": {
  "name": "Untitled4"
 },
 "nbformat": 3,
 "nbformat_minor": 0,
 "worksheets": [
  {
   "cells": [
    {
     "cell_type": "code",
     "collapsed": false,
     "input": [
      "from numpy import *\n",
      "\n",
      "A = floor(random.rand(4,4)*20-10) # generating a random\n",
      "b = floor(random.rand(4,1)*20-10) # system Ax=b\n",
      "\n",
      "\n",
      "U,s,V = linalg.svd(A) # SVD decomposition of A\n",
      "\n",
      "# computing the inverse using pinv\n",
      "pinv = linalg.pinv(A)\n",
      "# computing the inverse using the SVD decomposition\n",
      "pinv_svd = dot(dot(V.T,linalg.inv(diag(s))),U.T)\n",
      "\n",
      "print \"Inverse computed by lingal.pinv()\\n\",pinv\n",
      "print \"Inverse computed using SVD\\n\",pinv_svd\n",
      "\n",
      "\n",
      "x = linalg.solve(A,b) # solve Ax=b using linalg.solve\n",
      "\n",
      "xPinv = dot(pinv_svd,b) # solving Ax=b computing x = A^-1*b\n",
      "\n",
      "# solving Ax=b using the equation above\n",
      "c = dot(U.T,b) # c = U^t*b\n",
      "print \"######\"\n",
      "print c.shape\n",
      "print s.shape\n",
      "print diag(s).shape\n",
      "print diag(s)\n",
      "print np.diag(s)\n",
      "print \"####\"\n",
      "w = linalg.solve(diag(s),c) # w = V^t*c\n",
      "\n",
      "\n",
      "xSVD = dot(V.T,w) # x = V*w\n",
      "\n",
      "print \"Ax=b solutions compared\"\n",
      "print x.T\n",
      "print xSVD.T\n",
      "print xPinv.T"
     ],
     "language": "python",
     "metadata": {},
     "outputs": [
      {
       "output_type": "stream",
       "stream": "stdout",
       "text": [
        "Inverse computed by lingal.pinv()\n",
        "[[-0.01719198  0.03438395  0.05157593  0.02005731]\n",
        " [-0.3495702  -0.3008596   0.0487106   0.07449857]\n",
        " [ 0.02005731 -0.04011461 -0.06017192  0.14326648]\n",
        " [-0.41833811 -0.56332378  0.05501433  0.35472779]]\n",
        "Inverse computed using SVD\n",
        "[[-0.01719198  0.03438395  0.05157593  0.02005731]\n",
        " [-0.3495702  -0.3008596   0.0487106   0.07449857]\n",
        " [ 0.02005731 -0.04011461 -0.06017192  0.14326648]\n",
        " [-0.41833811 -0.56332378  0.05501433  0.35472779]]\n",
        "######\n",
        "(4, 1)\n",
        "(4,)\n",
        "(4, 4)\n",
        "[[ 22.03506651   0.           0.           0.        ]\n",
        " [  0.          14.67061628   0.           0.        ]\n",
        " [  0.           0.           4.90056618   0.        ]\n",
        " [  0.           0.           0.           1.10150494]]\n",
        "[[ 22.03506651   0.           0.           0.        ]\n",
        " [  0.          14.67061628   0.           0.        ]\n",
        " [  0.           0.           4.90056618   0.        ]\n",
        " [  0.           0.           0.           1.10150494]]\n",
        "####\n",
        "Ax=b solutions compared\n",
        "[[ 0.48710602  2.23782235  0.76504298  3.58624642]]\n",
        "[[ 0.48710602  2.23782235  0.76504298  3.58624642]]\n",
        "[[ 0.48710602  2.23782235  0.76504298  3.58624642]]\n"
       ]
      }
     ],
     "prompt_number": 6
    },
    {
     "cell_type": "code",
     "collapsed": false,
     "input": [
      "print A.shape\n",
      "print b.shape"
     ],
     "language": "python",
     "metadata": {},
     "outputs": [
      {
       "output_type": "stream",
       "stream": "stdout",
       "text": [
        "(4, 4)\n",
        "(4, 1)\n"
       ]
      }
     ],
     "prompt_number": 2
    },
    {
     "cell_type": "code",
     "collapsed": false,
     "input": [],
     "language": "python",
     "metadata": {},
     "outputs": []
    }
   ],
   "metadata": {}
  }
 ]
}